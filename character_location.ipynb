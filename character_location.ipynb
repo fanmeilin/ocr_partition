{
 "cells": [
  {
   "cell_type": "code",
   "execution_count": 1,
   "metadata": {},
   "outputs": [],
   "source": [
    "import cv2 as cv\n",
    "import matplotlib.pyplot as plt\n",
    "import json\n",
    "import math\n",
    "import numpy as np"
   ]
  },
  {
   "cell_type": "code",
   "execution_count": 2,
   "metadata": {},
   "outputs": [],
   "source": [
    "from common_lib import DataManager\n",
    "from common_lib import AnnotationManager"
   ]
  },
  {
   "cell_type": "code",
   "execution_count": 3,
   "metadata": {},
   "outputs": [],
   "source": [
    "'''\n",
    "显示图片\n",
    "输入：图片矩阵，画布大小：元组（宽，高）\n",
    "'''\n",
    "def showImg(img,figsize=(12,12),cmap = None):\n",
    "    plt.figure(figsize=figsize)\n",
    "    plt.axis('off')\n",
    "    plt.imshow(img,cmap = cmap)\n",
    "    plt.show()"
   ]
  },
  {
   "cell_type": "code",
   "execution_count": 4,
   "metadata": {},
   "outputs": [],
   "source": [
    "'''\n",
    "在img中画出对应点\n",
    "输出：box是点的坐标数组,img是对应图片\n",
    "输出：标上点的图片\n",
    "'''\n",
    "def showPoint(img,box):\n",
    "    point_size = 20\n",
    "    point_color = (0, 0, 255) # BGR\n",
    "    thickness = 8 # 可以为 0 、4、8\n",
    "    for item in box:\n",
    "#     print((int(item[0]),int(item[1])))\n",
    "        cv.circle(img, (int(item[0]),int(item[1])), point_size, point_color, thickness)\n",
    "#     plt.imshow(img)\n",
    "    return img"
   ]
  },
  {
   "cell_type": "code",
   "execution_count": 5,
   "metadata": {},
   "outputs": [],
   "source": [
    "'''\n",
    "获取圆心坐标\n",
    "输入：所有的图片标注数据（包括图片id，同心圆，框框点坐标）：json文件，图片的id ：字符串\n",
    "输出：查找图片的圆心坐标：形式[x,y]\n",
    "'''\n",
    "def getCicleCenter(imgtotalData,img_id):\n",
    "    centerX = 0\n",
    "    centerY = 0\n",
    "    circles = []\n",
    "    for item in imgtotalData['record']:\n",
    "        if(item['info']['uuid']==img_id):\n",
    "            circles = item['info']['circles']\n",
    "            break\n",
    "    for item in circles:\n",
    "        centerX += item[0]\n",
    "        centerY += item[1]\n",
    "    centerX /= len(circles)\n",
    "    centerY /= len(circles)\n",
    "    result = [centerX,centerY]\n",
    "    return result"
   ]
  },
  {
   "cell_type": "markdown",
   "metadata": {},
   "source": [
    "####  通过json中的info信息获取圆心坐标"
   ]
  },
  {
   "cell_type": "code",
   "execution_count": 6,
   "metadata": {},
   "outputs": [],
   "source": [
    "'''\n",
    "通过json中的info信息获取圆心坐标\n",
    "输入：rec表示一张图片的json信息\n",
    "输出：查找图片的圆心坐标：形式[x,y]\n",
    "'''\n",
    "def getCicleCenterByInfo(rec):\n",
    "    centerX = 0\n",
    "    centerY = 0\n",
    "    circles = rec['info']['circles']\n",
    "    for item in circles:\n",
    "        centerX += item[0]\n",
    "        centerY += item[1]\n",
    "    centerX /= len(circles)\n",
    "    centerY /= len(circles)\n",
    "    result = [centerX,centerY]\n",
    "    return result"
   ]
  },
  {
   "cell_type": "code",
   "execution_count": 7,
   "metadata": {},
   "outputs": [],
   "source": [
    "'''\n",
    "获取圆信息\n",
    "输出：所有的图片标注数据（包括图片id，同心圆，框框点坐标）：json文件，图片的id ：字符串\n",
    "输出：查找图片的圆信息\n",
    "'''\n",
    "def getCicleInfo(imgtotalData,img_id):\n",
    "    circles = []\n",
    "    for item in imgtotalData['record']:\n",
    "        if(item['info']['uuid']==img_id):\n",
    "            circles = item['info']['circles']\n",
    "            break\n",
    "    return circles"
   ]
  },
  {
   "cell_type": "code",
   "execution_count": 8,
   "metadata": {},
   "outputs": [],
   "source": [
    "'''\n",
    "得到多边形最大最小值信息\n",
    "输入：多边形的点的坐标list\n",
    "输出：相关最大最小值信息\n",
    "'''\n",
    "def getInfo(box): \n",
    "    Xmin = box[0][0]\n",
    "    Xmax = box[0][0]\n",
    "    Ymin = box[0][1]\n",
    "    Ymax = box[0][1]\n",
    "    for item in box:\n",
    "        if(item[0]>Xmax):\n",
    "            Xmax = item[0]\n",
    "        if(item[0]<Xmin):\n",
    "            Xmin = item[0] \n",
    "        if(item[1]>Ymax):\n",
    "            Ymax = item[1]\n",
    "        if(item[1]<Ymin):\n",
    "            Ymin = item[1]\n",
    "    result = [Xmin,Ymin,Xmax,Ymax]\n",
    "    return result\n"
   ]
  },
  {
   "cell_type": "code",
   "execution_count": 9,
   "metadata": {},
   "outputs": [],
   "source": [
    "'''\n",
    "得到字符的中心点\n",
    "输入：多边形的点的坐标：list形式[[x,y],...]\n",
    "输出：中心点坐标\n",
    "'''\n",
    "def getCharacterCenter(box):\n",
    "    Info = getInfo(box)\n",
    "    result = [(Info[0]+Info[2])/2,(Info[1]+Info[3])/2,]\n",
    "    result = [int(i) for i in result]\n",
    "    return result"
   ]
  },
  {
   "cell_type": "markdown",
   "metadata": {},
   "source": [
    "#### 通过json的getxyx获取的信息得到中心点坐标"
   ]
  },
  {
   "cell_type": "code",
   "execution_count": 10,
   "metadata": {},
   "outputs": [],
   "source": [
    "'''\n",
    "得到字符的中心点\n",
    "输入：相关最大最小值信息\n",
    "输出：中心点坐标\n",
    "'''\n",
    "def getCharacterCenterByInfo(Info):\n",
    "#     Info = getInfo(box)\n",
    "    result = [(Info[0]+Info[2])/2,(Info[1]+Info[3])/2,]\n",
    "    result = [int(i) for i in result]\n",
    "    return result"
   ]
  },
  {
   "cell_type": "code",
   "execution_count": 11,
   "metadata": {},
   "outputs": [],
   "source": [
    "'''\n",
    "得到剪裁的图片\n",
    "输入：图像，多边形的点的坐标：list形式[[x,y],...]\n",
    "输出：剪裁好的图片\n",
    "'''\n",
    "def getCropped(img,box):\n",
    "    result = getInfo(box)\n",
    "    result = [int(i) for i in result]\n",
    "    cropped = img[result[1]:result[3],result[0]:result[2]]\n",
    "#     showImg(cropped,(4,4))\n",
    "    return cropped"
   ]
  },
  {
   "cell_type": "markdown",
   "metadata": {},
   "source": [
    "#### 通过json的getxyx获取的信息得到剪裁图片"
   ]
  },
  {
   "cell_type": "code",
   "execution_count": 12,
   "metadata": {},
   "outputs": [],
   "source": [
    "'''\n",
    "通过json的getxyx获取的信息得到剪裁图片\n",
    "输入：图像，多边形的点的坐标：list形式[[x,y],...]\n",
    "输出：剪裁好的图片\n",
    "'''\n",
    "def getCroppedByInfo(img,Info):\n",
    "    result = [int(i) for i in Info]\n",
    "    cropped = img[result[1]:result[3],result[0]:result[2]]\n",
    "#     showImg(cropped,(4,4))\n",
    "    return cropped"
   ]
  },
  {
   "cell_type": "code",
   "execution_count": 13,
   "metadata": {},
   "outputs": [],
   "source": [
    "'''\n",
    "根据图片中心点，和指定的正方形边长得到剪裁的图片\n",
    "输入：图像，多边形的中心点的坐标：list形式[x,y]，指定\n",
    "输出：剪裁好的图片\n",
    "'''\n",
    "def getCroppedBycenter(img,CharacterCenter,Rlength):\n",
    "    CharacterCenter = [int(i) for i in CharacterCenter]\n",
    "    span = int(Rlength/2)\n",
    "    cropped = img[CharacterCenter[1]-span:CharacterCenter[1]+span,CharacterCenter[0]-span:CharacterCenter[0]+span]\n",
    "    return cropped"
   ]
  },
  {
   "cell_type": "code",
   "execution_count": 14,
   "metadata": {},
   "outputs": [],
   "source": [
    "'''\n",
    "计算绕中心点旋转角度 顺时针为负 逆时针为正\n",
    "输入：中心点的[x,y] 圆心坐标[x,y]\n",
    "输出：旋转度数\n",
    "'''\n",
    "def calcAngle(point,center):\n",
    "    angle = 0\n",
    "    xdis = center[0]-point[0]\n",
    "    ydis = center[1]-point[1]\n",
    "    if(xdis!=0 and ydis!=0):\n",
    "        tempAngle = math.atan(abs(xdis)/abs(ydis))*180/math.pi\n",
    "        if(xdis>0 and ydis>0):\n",
    "            angle = -(tempAngle) #右旋\n",
    "        if(xdis<0 and ydis>0):\n",
    "            angle = tempAngle\n",
    "        if(xdis>0 and ydis<0):\n",
    "            angle = tempAngle-180\n",
    "        if(xdis<0 and ydis<0):\n",
    "            angle = 180-tempAngle\n",
    "    if(xdis==0 and ydis<0):\n",
    "        angle = 180\n",
    "    if(ydis==0 and xdis>0):\n",
    "        angle = -90\n",
    "    if(ydis==0 and xdis<0):\n",
    "        angle = 90\n",
    "    return angle"
   ]
  },
  {
   "cell_type": "code",
   "execution_count": 27,
   "metadata": {},
   "outputs": [],
   "source": [
    "#角度为负，顺时针；角度为正，逆时针\n",
    "'''\n",
    "得到旋转后图片\n",
    "输入：剪裁图片和旋转角度\n",
    "输出：将剪裁图片旋转angle的图像\n",
    "'''\n",
    "def rotateImg(cropped,angle=0,pad=0,borderValue = 0):\n",
    "    rows,cols = cropped.shape[:2]\n",
    "    # cols-1 and rows-1 are the coordinate limits.\n",
    "    M = cv.getRotationMatrix2D(((cols-1)/2.0,(rows-1)/2.0),angle,1)\n",
    "    dst = cv.warpAffine(cropped,M,(cols+pad,rows+pad),borderValue=(borderValue,borderValue,borderValue))\n",
    "    return dst"
   ]
  },
  {
   "cell_type": "code",
   "execution_count": 16,
   "metadata": {},
   "outputs": [],
   "source": [
    "'''\n",
    "通过圆心，字符框得到切割矫正后的图片\n",
    "输入：圆心坐标：[x,y],多边形框的顶点位置：[[x,y],...],旋转后填充的长宽像素值\n",
    "输出：剪裁矫正后的字符图像\n",
    "'''\n",
    "def getPattern(img,circleCenter,box,pad=0):\n",
    "    characterCenter = getCharacterCenter(box)\n",
    "    angle = calcAngle(characterCenter,circleCenter) #图片的圆心坐标 旋转角度\n",
    "    cropped = getCropped(img,box)                       #得到剪裁的字符图片\n",
    "    result = rotateImg(cropped,angle,pad)\n",
    "    return result"
   ]
  },
  {
   "cell_type": "code",
   "execution_count": 37,
   "metadata": {},
   "outputs": [],
   "source": [
    "'''\n",
    "通过圆心，字符中心点得到切割矫正后的图片\n",
    "输入：圆心坐标：[x,y],多边形框的顶点位置：[[x,y],...],旋转后填充的长宽像素值\n",
    "输出：剪裁矫正后的字符图像\n",
    "'''\n",
    "def getPatternByCenter(img,circleCenter,characterCenter,Rlength,pad=0,boderValue = 0):\n",
    "    angle = calcAngle(characterCenter,circleCenter) #图片的圆心坐标 旋转角度\n",
    "    cropped = getCroppedBycenter(img,characterCenter,Rlength)    #得到剪裁的字符图片\n",
    "    result = rotateImg(cropped,angle,pad,boderValue)\n",
    "    return result"
   ]
  },
  {
   "cell_type": "markdown",
   "metadata": {},
   "source": [
    "#### 通过json得到的info来替换box的功能 利用外接矩形"
   ]
  },
  {
   "cell_type": "code",
   "execution_count": 33,
   "metadata": {},
   "outputs": [],
   "source": [
    "'''\n",
    "通过圆心，字符框得到切割矫正后的图片\n",
    "输入：圆心坐标：[x,y],Info多边形框的[Xmin,Ymin,Xmax,Ymax]：[[x,y],...],旋转后填充的长宽像素值\n",
    "输出：剪裁矫正后的字符图像\n",
    "'''\n",
    "def getPatternByInfo(img,circleCenter,Info,pad=0,boderValue = 0):\n",
    "    characterCenter = getCharacterCenterByInfo(Info)\n",
    "    angle = calcAngle(characterCenter,circleCenter) #图片的圆心坐标 旋转角度\n",
    "    cropped = getCroppedByInfo(img,Info)                       #得到剪裁的字符图片\n",
    "    result = rotateImg(cropped,angle,pad,boderValue)\n",
    "    return result"
   ]
  },
  {
   "cell_type": "markdown",
   "metadata": {},
   "source": [
    "## 处理全部"
   ]
  },
  {
   "cell_type": "code",
   "execution_count": 41,
   "metadata": {},
   "outputs": [],
   "source": [
    "data = DataManager.load('labeled_giant_data.json')\n",
    "image_data_root = 'F:/mountMl_fan/bearing/'"
   ]
  },
  {
   "cell_type": "markdown",
   "metadata": {},
   "source": [
    "### 使用中心点指定边长剪裁旋转所有数据"
   ]
  },
  {
   "cell_type": "code",
   "execution_count": 54,
   "metadata": {},
   "outputs": [],
   "source": [
    "'''\n",
    "根据json文件剪裁旋转字符图片\n",
    "输入：data（json文件）,image_data_root:图像存放的根目录，Rlength ：剪裁的正方形边长,\n",
    "boderValue 表示边缘填充的颜色 默认设置为黑色  cropRlength=100 得到旋转图像后扣取中心部分\n",
    "输出：img_list表示裁剪并旋转后返回的图片列表\n",
    "'''\n",
    "def cropRotate(data,image_data_root,Rlength=200,boderValue=0,cropRlength=100):\n",
    "    am = AnnotationManager(data.class_dict)\n",
    "    img_list = []\n",
    "    Cstart = int((Rlength - cropRlength)/2)\n",
    "    Cend = int(Cstart+cropRlength)\n",
    "    for rec in data:\n",
    "        image_path = image_data_root + rec['info']['image_path']\n",
    "        img = cv.imread(image_path)\n",
    "        circleCenter = getCicleCenterByInfo(rec)\n",
    "        rec_id = rec['info']['uuid']\n",
    "        for inst in rec['instances']:\n",
    "            character_id = inst['uuid']\n",
    "            class_names = am.get_classname(inst)\n",
    "            if('word' in class_names):\n",
    "                Info = am.get_xyxy(inst)\n",
    "                characterCenter = getCharacterCenterByInfo(Info)\n",
    "                result = getPatternByCenter(img,circleCenter,characterCenter,Rlength,boderValue=boderValue)\n",
    "                result = result[Cstart:Cend,Cstart:Cend]\n",
    "                img_list.append(result)\n",
    "                cv.imwrite(\"./result/all_rotate_result_big/{}.png\".format(rec_id+\"_\"+character_id),result)\n",
    "    return img_list\n"
   ]
  },
  {
   "cell_type": "code",
   "execution_count": 56,
   "metadata": {},
   "outputs": [],
   "source": [
    "'''\n",
    "根据json文件剪裁字符图片\n",
    "输入：data（json文件）,image_data_root:图像存放的根目录，Rlength ：剪裁的正方形边长\n",
    "输出：img_list表示裁剪后返回的图片列表\n",
    "'''\n",
    "def cropImg(data,image_data_root,Rlength):\n",
    "    am = AnnotationManager(data.class_dict)\n",
    "    img_list = []\n",
    "    for rec in data:\n",
    "        image_path = image_data_root + rec['info']['image_path']\n",
    "        img = cv.imread(image_path)\n",
    "        circleCenter = getCicleCenterByInfo(rec)\n",
    "        rec_id = rec['info']['uuid']\n",
    "        for inst in rec['instances']:\n",
    "            character_id = inst['uuid']\n",
    "            class_names = am.get_classname(inst)\n",
    "            if('word' in class_names):\n",
    "                Info = am.get_xyxy(inst)\n",
    "                characterCenter = getCharacterCenterByInfo(Info)\n",
    "                result = getCroppedBycenter(img,characterCenter,Rlength)\n",
    "                img_list.append(result)\n",
    "                cv.imwrite(\"./result/all_cropped_result/{}.png\".format(rec_id+\"_\"+character_id),result)\n",
    "    return img_list"
   ]
  },
  {
   "cell_type": "code",
   "execution_count": 57,
   "metadata": {},
   "outputs": [],
   "source": [
    "img_list = cropRotate(data,image_data_root,200,255,cropRlength=100)"
   ]
  },
  {
   "cell_type": "code",
   "execution_count": 42,
   "metadata": {},
   "outputs": [],
   "source": [
    "img_list = cropImg(data,image_data_root,100)"
   ]
  },
  {
   "cell_type": "markdown",
   "metadata": {},
   "source": [
    "## 读取图像和json信息"
   ]
  },
  {
   "cell_type": "code",
   "execution_count": 77,
   "metadata": {},
   "outputs": [],
   "source": [
    "img = cv.imread(\"./1_2.png\")\n",
    "filename = './1_2.json'\n",
    "with open(filename) as f:\n",
    "    imgData = json.load(f)\n",
    "with open('./labeled_giant_data.json') as f:\n",
    "    imgtotalData = json.load(f)\n",
    "    \n",
    "#单个图片\n",
    "img_id = imgData['uuid']    #图片的id\n",
    "boxlist = imgData['shapes'] #多边形框点列表"
   ]
  },
  {
   "cell_type": "markdown",
   "metadata": {},
   "source": [
    "## 通过多边形得到字符图像并保存"
   ]
  },
  {
   "cell_type": "code",
   "execution_count": 19,
   "metadata": {},
   "outputs": [],
   "source": [
    "i=0\n",
    "circleCenter = getCicleCenter(imgtotalData,img_id) #得到圆中心点\n",
    "pad = 5\n",
    "for item in boxlist: #处理一张图的多边形\n",
    "    if(item['label']=='word'):   #筛选出图像中的字符元素\n",
    "        boxItem = item['points'] #得到此元素的box点的位置[[][]] 二维列表 [x,y] 定位图像中的某个点\n",
    "        result = getPattern(img,circleCenter,boxItem,pad)\n",
    "        cv.imwrite(\"./rotate_result/{}.png\".format(str(i)+\"picture\"),result)\n",
    "        i += 1\n",
    "#         cropped = getCroped(boxItem) \n",
    "#         cv.imwrite(\"./cropped_result/{}.png\".format(str(i)+\"picture\"),cropped)\n",
    "#         i += 1"
   ]
  },
  {
   "cell_type": "markdown",
   "metadata": {},
   "source": [
    "## 通过字符中心点得到字符图像并保存"
   ]
  },
  {
   "cell_type": "code",
   "execution_count": 47,
   "metadata": {},
   "outputs": [
    {
     "data": {
      "text/plain": [
       "[[1984.839111328125, 1450.1273193359375, 558.5774841308594],\n",
       " [1984.755859375, 1450.391845703125, 717.52099609375],\n",
       " [1985.1937255859375, 1450.6708984375, 1032.5601196289062],\n",
       " [1985.54296875, 1449.3905029296875, 1155.46533203125],\n",
       " [1985.563720703125, 1453.12939453125, 1184.8939208984375]]"
      ]
     },
     "execution_count": 47,
     "metadata": {},
     "output_type": "execute_result"
    }
   ],
   "source": [
    "getCicleInfo(imgtotalData,img_id)"
   ]
  },
  {
   "cell_type": "code",
   "execution_count": 36,
   "metadata": {},
   "outputs": [],
   "source": [
    "## 文件保存\n",
    "i=0\n",
    "circleCenter = getCicleCenter(imgtotalData,img_id) #得到圆中心点\n",
    "pad = 0\n",
    "Rlength = 100\n",
    "for item in boxlist: #处理一张图的多边形\n",
    "    if(item['label']=='word'):   #筛选出图像中的字符元素\n",
    "        boxItem = item['points'] #得到此元素的box点的位置[[][]] 二维列表 [x,y] 定位图像中的某个点\n",
    "        characterCenter = getCharacterCenter(boxItem)\n",
    "        result = getPatternByCenter(img,circleCenter,characterCenter,Rlength,pad=pad)\n",
    "        cv.imwrite(\"./rotateByCenter_result/{}.png\".format(str(i)+\"picture\"),result)\n",
    "        i += 1\n",
    "#         cropped = getCroped(boxItem) \n",
    "#         cv.imwrite(\"./cropped_result/{}.png\".format(str(i)+\"picture\"),cropped)\n",
    "#         i += 1"
   ]
  },
  {
   "cell_type": "code",
   "execution_count": 78,
   "metadata": {},
   "outputs": [],
   "source": [
    "## 使用列表保存\n",
    "i=0\n",
    "circleCenter = getCicleCenter(imgtotalData,img_id) #得到圆中心点\n",
    "pad = 0\n",
    "Rlength = 100\n",
    "imgList = []\n",
    "for item in boxlist: #处理一张图的多边形\n",
    "    if(item['label']=='word'):   #筛选出图像中的字符元素\n",
    "        boxItem = item['points'] #得到此元素的box点的位置[[][]] 二维列表 [x,y] 定位图像中的某个点\n",
    "        characterCenter = getCharacterCenter(boxItem)\n",
    "        result = getPatternByCenter(img,circleCenter,characterCenter,Rlength,pad=pad)\n",
    "        imgList.append(result)\n",
    "#         cv.imwrite(\"./rotateByCenter_result/{}.png\".format(str(i)+\"picture\"),result)\n",
    "#         i += 1\n",
    "#         cropped = getCroped(boxItem) \n",
    "#         cv.imwrite(\"./cropped_result/{}.png\".format(str(i)+\"picture\"),cropped)\n",
    "#         i += 1"
   ]
  },
  {
   "cell_type": "markdown",
   "metadata": {},
   "source": [
    "## 二值化图像并消除噪音"
   ]
  },
  {
   "cell_type": "code",
   "execution_count": 80,
   "metadata": {},
   "outputs": [],
   "source": [
    "# img = cv.imread(\"./rotateByCenter_result/0picture.png\",cv.IMREAD_GRAYSCALE) #以灰度图形式读取文件 shape为100*100\n",
    "maskList = []\n",
    "i=0\n",
    "for item in imgList:\n",
    "    img = cv.cvtColor(item,cv.COLOR_BGR2GRAY)\n",
    "    npImg = np.array(img)\n",
    "    npImg[(npImg<80)&(npImg>0)] = 255\n",
    "    npImg[npImg<255] = 0\n",
    "    mask = cv.erode(npImg.astype('uint8'), kernel=np.ones((2,2)),iterations=3)\n",
    "    cv.imwrite(\"./result/maskFile/{}.png\".format(str(i)+\"picture\"),mask)\n",
    "    maskList.append(mask)\n",
    "    i+=1"
   ]
  }
 ],
 "metadata": {
  "kernelspec": {
   "display_name": "Python 3",
   "language": "python",
   "name": "python3"
  },
  "language_info": {
   "codemirror_mode": {
    "name": "ipython",
    "version": 3
   },
   "file_extension": ".py",
   "mimetype": "text/x-python",
   "name": "python",
   "nbconvert_exporter": "python",
   "pygments_lexer": "ipython3",
   "version": "3.8.5"
  }
 },
 "nbformat": 4,
 "nbformat_minor": 5
}
