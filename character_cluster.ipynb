{
 "cells": [
  {
   "cell_type": "code",
   "execution_count": 6,
   "id": "87c6904f",
   "metadata": {},
   "outputs": [],
   "source": [
    "import numpy as np\n",
    "import matplotlib.pyplot as plt\n",
    "import cv2 as cv\n",
    "import os,glob,shutil\n",
    "from sklearn.cluster import KMeans\n",
    "from sklearn.metrics import silhouette_score\n",
    "import tensorflow as tf\n",
    "from tensorflow.keras.applications import MobileNetV2\n",
    "#glob库 是python自带的文件操作模块可以查找符合条件的文件类似文件搜索 支持通配符\n",
    "#shutil库是高级的文件，文件夹，压缩包处理模块\n",
    "#silhouette_scores是轮廓系数可以用于评价聚类效果 结果内聚度和分离度\n",
    "#内聚体现在样本的平均簇内距离 越小越内聚，分离体系在平均邻近 越大越分离 越接近1越好"
   ]
  },
  {
   "cell_type": "code",
   "execution_count": 2,
   "id": "6e101a8a",
   "metadata": {},
   "outputs": [],
   "source": [
    "'''\n",
    "显示图片\n",
    "输入：图片矩阵，画布大小：元组（宽，高）\n",
    "'''\n",
    "def showImg(img,figsize=(4,4),cmap = \"gray\"):\n",
    "    plt.figure(figsize=figsize)\n",
    "    plt.axis('off')\n",
    "    plt.imshow(img,cmap = cmap)\n",
    "    plt.show()"
   ]
  },
  {
   "cell_type": "code",
   "execution_count": 17,
   "id": "2da697dd",
   "metadata": {},
   "outputs": [],
   "source": [
    "# #获取图像list\n",
    "# imlist = []\n",
    "# directory_name = './result/all_mask_big/'\n",
    "# for filename in os.listdir(directory_name):\n",
    "#     img = cv.imread(directory_name+filename,0)  #imread读入图片时默认按照三通道（即使是灰度图像）\n",
    "#     imlist.append(img)"
   ]
  },
  {
   "cell_type": "code",
   "execution_count": 4,
   "id": "719122ae",
   "metadata": {},
   "outputs": [],
   "source": [
    "#读取指定文件夹下的所有图片并且resize为224*224 在将图像数据归一化并且通过reshape扁平化\n",
    "input_dir = \"./result/all_mask_big/\"\n",
    "glob_dir = input_dir + '*.png'\n",
    "images = [cv.resize(cv.imread(file),(224,224)) for file in glob.glob(glob_dir)] #通过通配符读取图像文件并且进行resize\n",
    "paths = [file for file in glob.glob(glob_dir)] #读取对应的路径\n",
    "images = np.array(np.float32(images).reshape(len(images),-1)/255) #将一张图flatten之后归一化"
   ]
  },
  {
   "cell_type": "code",
   "execution_count": 9,
   "id": "5772f93c",
   "metadata": {},
   "outputs": [
    {
     "name": "stdout",
     "output_type": "stream",
     "text": [
      "Downloading data from https://storage.googleapis.com/tensorflow/keras-applications/mobilenet_v2/mobilenet_v2_weights_tf_dim_ordering_tf_kernels_1.0_224_no_top.h5\n",
      "9412608/9406464 [==============================] - 20s 2us/step\n"
     ]
    }
   ],
   "source": [
    "#定义模型提取特征\n",
    "model = tf.keras.applications.MobileNetV2(include_top=False,weights='imagenet',input_shape=(224,224,3))\n",
    "predictions = model.predict(images.reshape(-1,224,224,3)) #提取图像的特征\n",
    "pred_images = predictions.reshape(images.shape[0],-1) #特征扁平化"
   ]
  },
  {
   "cell_type": "code",
   "execution_count": 11,
   "id": "f5e250be",
   "metadata": {},
   "outputs": [
    {
     "data": {
      "text/plain": [
       "(3257, 62720)"
      ]
     },
     "execution_count": 11,
     "metadata": {},
     "output_type": "execute_result"
    }
   ],
   "source": [
    "pred_images.shape"
   ]
  },
  {
   "cell_type": "code",
   "execution_count": 48,
   "id": "d0862b06",
   "metadata": {},
   "outputs": [
    {
     "name": "stderr",
     "output_type": "stream",
     "text": [
      "D:\\anaconda\\lib\\site-packages\\sklearn\\cluster\\_kmeans.py:793: FutureWarning: 'n_jobs' was deprecated in version 0.23 and will be removed in 1.0 (renaming of 0.25).\n",
      "  \" removed in 1.0 (renaming of 0.25).\", FutureWarning)\n"
     ]
    }
   ],
   "source": [
    "k=11\n",
    "#定义KMeans的参数\n",
    "kmodel = KMeans(n_clusters = k,n_jobs=-1,random_state=2021)#n_job若值为 -1，则用所有的CPU进行运算\n",
    "#拟合模型和预测结果\n",
    "kmodel.fit(pred_images)\n",
    "kpredictions = kmodel.predict(pred_images)\n",
    "shutil.rmtree('./result/output'+str(k)) #递归删除文件夹\n",
    "for i in range(k):\n",
    "    os.makedirs(\"./result/output\"+str(k)+\"/cluster\"+str(i)) #创建新的文件夹\n",
    "for i in range(len(paths)):\n",
    "    shutil.copy2(paths[i],\"./result/output\"+str(k)+\"/cluster\"+str(kpredictions[i])) #除了文件元数据也会复制 （对数据及信息资源的描述性信息）"
   ]
  },
  {
   "cell_type": "code",
   "execution_count": null,
   "id": "7d369c3f",
   "metadata": {},
   "outputs": [],
   "source": [
    "def clusterToFile(k):\n",
    "    k=10\n",
    "    #定义KMeans的参数\n",
    "    kmodel = KMeans(n_clusters = k,n_jobs=-1,random_state=2021)#n_job若值为 -1，则用所有的CPU进行运算\n",
    "    #拟合模型和预测结果\n",
    "    kmodel.fit(pred_images)\n",
    "    kpredictions = kmodel.predict(pred_images)\n",
    "    shutil.rmtree('./result/output'+str(k)) #递归删除文件夹\n",
    "    for i in range(k):\n",
    "        os.makedirs(\"./result/output\"+str(k)+\"/cluster\"+str(i)) #创建新的文件夹\n",
    "    for i in range(len(paths)):\n",
    "        shutil.copy2(paths[i],\"./result/output\"+str(k)+\"/cluster\"+str(kpredictions[i])) #除了文件元数据也会复制 （对数据及信息资源的描述性信息）"
   ]
  },
  {
   "cell_type": "code",
   "execution_count": 26,
   "id": "ab7405c0",
   "metadata": {},
   "outputs": [],
   "source": [
    "#分类器.fit(X).predict的结果= 分类器.fit_predict(X)=分类器.fit(X).labels_\n",
    "sil = []\n",
    "kl = []\n",
    "kmax = 15\n",
    "for k in range(5,kmax+1):\n",
    "    kmeans2 = KMeans(n_clusters=k).fit(pred_images)\n",
    "    labels = kmeans2.labels_\n",
    "    sil.append(silhouette_score(pred_images,labels,metric='euclidean'))\n",
    "    kl.append(k)"
   ]
  },
  {
   "cell_type": "code",
   "execution_count": 27,
   "id": "b48e7c57",
   "metadata": {},
   "outputs": [
    {
     "data": {
      "image/png": "[encoded data removed]",
      "text/plain": [
       "<Figure size 432x288 with 1 Axes>"
      ]
     },
     "metadata": {
      "needs_background": "light"
     },
     "output_type": "display_data"
    }
   ],
   "source": [
    "plt.plot(kl,sil)\n",
    "plt.ylabel('Silhoutte Score')\n",
    "plt.xlabel('K')\n",
    "plt.show()"
   ]
  },
  {
   "cell_type": "code",
   "execution_count": 29,
   "id": "c3233dfa",
   "metadata": {},
   "outputs": [
    {
     "data": {
      "text/plain": [
       "[0.15881748,\n",
       " 0.18549779,\n",
       " 0.18915494,\n",
       " 0.20218502,\n",
       " 0.20564438,\n",
       " 0.18740596,\n",
       " 0.16714539,\n",
       " 0.1780002,\n",
       " 0.16265672,\n",
       " 0.16392559,\n",
       " 0.14778498]"
      ]
     },
     "execution_count": 29,
     "metadata": {},
     "output_type": "execute_result"
    }
   ],
   "source": [
    "sil"
   ]
  },
  {
   "cell_type": "code",
   "execution_count": null,
   "id": "680f7bda",
   "metadata": {},
   "outputs": [],
   "source": []
  }
 ],
 "metadata": {
  "kernelspec": {
   "display_name": "Python 3",
   "language": "python",
   "name": "python3"
  },
  "language_info": {
   "codemirror_mode": {
    "name": "ipython",
    "version": 3
   },
   "file_extension": ".py",
   "mimetype": "text/x-python",
   "name": "python",
   "nbconvert_exporter": "python",
   "pygments_lexer": "ipython3",
   "version": "3.7.0"
  }
 },
 "nbformat": 4,
 "nbformat_minor": 5
}
