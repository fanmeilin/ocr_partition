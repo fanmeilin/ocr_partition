{
 "cells": [
  {
   "cell_type": "code",
   "execution_count": 12,
   "id": "872c6464",
   "metadata": {},
   "outputs": [],
   "source": [
    "import cv2\n",
    "import glob,shutil\n",
    "from tqdm import tqdm\n",
    "import os.path as osp\n",
    "import numpy as np\n",
    "import matplotlib.pyplot as plt"
   ]
  },
  {
   "cell_type": "code",
   "execution_count": 2,
   "id": "4b31ec21",
   "metadata": {},
   "outputs": [],
   "source": [
    "import os\n",
    "os.environ[\"KMP_DUPLICATE_LIB_OK\"]=\"TRUE\""
   ]
  },
  {
   "cell_type": "code",
   "execution_count": 3,
   "id": "efd445eb",
   "metadata": {},
   "outputs": [],
   "source": [
    "import easyocr"
   ]
  },
  {
   "cell_type": "code",
   "execution_count": 4,
   "id": "63519b42",
   "metadata": {},
   "outputs": [],
   "source": [
    "reader = easyocr.Reader(['en']) # need to run only once to load model into memory"
   ]
  },
  {
   "cell_type": "code",
   "execution_count": 14,
   "id": "7cf74545",
   "metadata": {},
   "outputs": [],
   "source": [
    "# image_path_list = glob.glob('./result/label_data/?/*.png', recursive=True)\n",
    "# hist = []\n",
    "# error = []\n",
    "# for image_path in image_path_list:\n",
    "#     image = cv2.imread(image_path, 1)\n",
    "#     result = reader.recognize(image)\n",
    "#     label =osp.basename(osp.dirname(image_path))\n",
    "#     pred = result[0][-2]\n",
    "#     if(label!=pred):\n",
    "#         hist.append(0)\n",
    "#         error.append((image,label,pred))\n",
    "# #         print(osp.dirname(image_path))\n",
    "#     else:\n",
    "#         hist.append(1)\n",
    "# print(sum(hist))\n",
    "# print(\"precision:\",sum(hist)/len(hist))\n",
    "# 2547\n",
    "# precision: 0.7907482148401118"
   ]
  },
  {
   "cell_type": "code",
   "execution_count": 5,
   "id": "ffb86d07",
   "metadata": {},
   "outputs": [],
   "source": [
    "'''\n",
    "显示图片\n",
    "输入：图片矩阵，画布大小：元组（宽，高）\n",
    "'''\n",
    "def showImg(img,figsize=(4,4),cmap = \"gray\"):\n",
    "    plt.figure(figsize=figsize)\n",
    "    plt.axis('off')\n",
    "    plt.imshow(img,cmap = cmap)\n",
    "    plt.show()"
   ]
  },
  {
   "cell_type": "code",
   "execution_count": 68,
   "id": "ff8d66ab",
   "metadata": {},
   "outputs": [],
   "source": [
    "def preprocess(img):\n",
    "    # img = cv2.blur(img, ksize=(5,5))\n",
    "    # return img\n",
    "    # return 255 - img\n",
    "\n",
    "    size = 3\n",
    "#     img = cv2.dilate(img, np.ones((3,3)))\n",
    "    img = cv2.erode(img, np.ones((3,3)), iterations=size)\n",
    "#     \n",
    "\n",
    "#     img = img[0:-5,:]\n",
    "\n",
    "    return img"
   ]
  },
  {
   "cell_type": "code",
   "execution_count": 69,
   "id": "2ba12942",
   "metadata": {},
   "outputs": [],
   "source": [
    "image_path_list = glob.glob('result/temp_data/?/*.png', recursive=True)"
   ]
  },
  {
   "cell_type": "code",
   "execution_count": 70,
   "id": "77b4aebc",
   "metadata": {},
   "outputs": [
    {
     "name": "stderr",
     "output_type": "stream",
     "text": [
      " 97%|██████████████████████████████████████████████████████████████████████████▉  | 2884/2964 [00:13<00:00, 213.01it/s]"
     ]
    },
    {
     "name": "stdout",
     "output_type": "stream",
     "text": [
      "result/temp_data\\S\\022d0290c5d611eba414977232ebdff5_8aaa2a39c7f911eb9327ea1702ca848e.png\n"
     ]
    },
    {
     "name": "stderr",
     "output_type": "stream",
     "text": [
      " 99%|████████████████████████████████████████████████████████████████████████████ | 2929/2964 [00:13<00:00, 212.53it/s]"
     ]
    },
    {
     "name": "stdout",
     "output_type": "stream",
     "text": [
      "result/temp_data\\S\\eadf9544c5d511eba414977232ebdff5_8aaa000ec7f911ebb2b3ea1702ca848e.png\n"
     ]
    },
    {
     "name": "stderr",
     "output_type": "stream",
     "text": [
      "100%|█████████████████████████████████████████████████████████████████████████████| 2964/2964 [00:13<00:00, 216.41it/s]\n"
     ]
    }
   ],
   "source": [
    "hits = list()\n",
    "shutil.rmtree('./result/error') #递归删除文件夹\n",
    "os.makedirs(\"./result/error\")\n",
    "fiveImgs = []\n",
    "for image_path in tqdm(image_path_list):\n",
    "    image = cv2.imread(image_path, 0)\n",
    "    image = preprocess(image)\n",
    "    result = reader.recognize(image)\n",
    "    gt = osp.basename(osp.dirname(image_path))\n",
    "    pred = result[0][-2]\n",
    "    if ((gt == pred) or (result[0][-2]==\"p\" and gt==\"P\")):\n",
    "        hits.append(1)\n",
    "    else:\n",
    "        hits.append(0)\n",
    "#         print(image_path, result[0][-2:])\n",
    "        if(result[0][-2]==\"5\"):\n",
    "            fivepath = image_path\n",
    "            fiveImg = cv2.imread(image_path, 0)\n",
    "            fiveImgs.append(fiveImg)\n",
    "            print(image_path)\n",
    "        filename = \"./result/error/label is \"+gt+\"pred is \"+ result[0][-2]+\" score is \"+str(int(result[0][-1]*100))+\"%.png\"\n",
    "        cv2.imwrite(filename,image)"
   ]
  },
  {
   "cell_type": "code",
   "execution_count": 71,
   "id": "d8e876e4",
   "metadata": {},
   "outputs": [
    {
     "name": "stdout",
     "output_type": "stream",
     "text": [
      "Accuracy:  0.9267881241565452\n"
     ]
    }
   ],
   "source": [
    "print(\"Accuracy: \", sum(hits)/len(hits))"
   ]
  },
  {
   "cell_type": "code",
   "execution_count": null,
   "id": "15a50569",
   "metadata": {},
   "outputs": [],
   "source": []
  }
 ],
 "metadata": {
  "kernelspec": {
   "display_name": "Python 3",
   "language": "python",
   "name": "python3"
  },
  "language_info": {
   "codemirror_mode": {
    "name": "ipython",
    "version": 3
   },
   "file_extension": ".py",
   "mimetype": "text/x-python",
   "name": "python",
   "nbconvert_exporter": "python",
   "pygments_lexer": "ipython3",
   "version": "3.7.0"
  }
 },
 "nbformat": 4,
 "nbformat_minor": 5
}
