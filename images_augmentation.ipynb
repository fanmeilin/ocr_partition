{
 "cells": [
  {
   "cell_type": "code",
   "execution_count": 26,
   "metadata": {},
   "outputs": [],
   "source": [
    "import cv2 as cv\n",
    "import glob,shutil,os\n",
    "from tqdm import tqdm\n",
    "import numpy as np\n",
    "import matplotlib.pyplot as plt\n",
    "%matplotlib inline"
   ]
  },
  {
   "cell_type": "code",
   "execution_count": 27,
   "metadata": {},
   "outputs": [],
   "source": [
    "from torchvision import transforms as tfs\n",
    "from PIL import Image\n",
    "import tensorflow as tf"
   ]
  },
  {
   "cell_type": "code",
   "execution_count": 28,
   "metadata": {},
   "outputs": [],
   "source": [
    "'''\n",
    "显示图片\n",
    "输入：图片矩阵，画布大小：元组（宽，高）\n",
    "'''\n",
    "def showImg(img,figsize=(4,4),cmap = \"gray\"):\n",
    "    plt.figure(figsize=figsize)\n",
    "    plt.axis('off')\n",
    "    plt.imshow(img,cmap = cmap)\n",
    "    plt.show()"
   ]
  },
  {
   "cell_type": "code",
   "execution_count": 29,
   "metadata": {},
   "outputs": [],
   "source": [
    "'''\n",
    "读取文件夹下的所有文件及图片，以灰度图的形式读取并resize到指定大小\n",
    "输入：input_dir：读取的文件夹，可使用模糊匹配,Rmap表示读取的形式，若为0则以灰度图形式读取\n",
    "输出：图像列表，图片的路径列表\n",
    "'''\n",
    "def readImgAPath(input_dir,imgsize=32,Rmap=0):\n",
    "    glob_dir = input_dir + '*.png'\n",
    "    if Rmap==0:\n",
    "        images = [cv.resize(cv.imread(file,0),(imgsize,imgsize)) for file in glob.glob(glob_dir)] #通过通配符读取图像文件并且进行resize\n",
    "    else:\n",
    "        images = [cv.resize(cv.imread(file),(imgsize,imgsize)) for file in glob.glob(glob_dir)] #通过通配符读取图像文件并且进行resize\n",
    "    paths = [file for file in glob.glob(glob_dir)] #读取对应的路径\n",
    "    # images = np.array(images)/255 #将一张图flatten之后归一化\n",
    "    return images,paths"
   ]
  },
  {
   "cell_type": "markdown",
   "metadata": {},
   "source": [
    "### 整理数据（每一个文件夹选取50张图片进行训练）"
   ]
  },
  {
   "cell_type": "code",
   "execution_count": 57,
   "metadata": {},
   "outputs": [],
   "source": [
    "directory_name = \"../result/character/\"\n",
    "# shutil.rmtree(\"./result/augment_img/\")\n",
    "for filename in os.listdir(directory_name):\n",
    "    if(len(filename)==1):\n",
    "#         print(directory_name+\"/\"+filename)\n",
    "        paths = [path for path in glob.glob(directory_name+\"/\"+filename+\"/*.png\")[0:50] #正则匹配\n",
    "#         print(paths)\n",
    "        images = [cv.resize(cv.imread(path),(32,32)) for path in paths]\n",
    "        names = [path.split(os.path.sep)[-1] for path in paths]\n",
    "        file_aug = \"./result/augment_img/\"+filename\n",
    "        is_exists = os.path.exists(file_aug)\n",
    "        if not is_exists:\n",
    "            os.makedirs(file_aug)\n",
    "        for i,img in enumerate(images):\n",
    "            name = names[i]\n",
    "            cv.imwrite(file_aug+\"/\"+name,img)"
   ]
  },
  {
   "cell_type": "markdown",
   "metadata": {},
   "source": [
    "### 数据增强"
   ]
  },
  {
   "cell_type": "code",
   "execution_count": 5,
   "metadata": {},
   "outputs": [],
   "source": [
    "'''\n",
    "读取文件夹下的所有文件及图片，以灰度图的形式读取并resize到指定大小\n",
    "输入：input_dir：读取的文件夹，可使用模糊匹配,Rmap表示读取的形式，若为0则以灰度图形式读取\n",
    "输出：图像列表，图片的标签,图片名称\n",
    "'''\n",
    "def readImgAPathAName(input_dir,imgsize=32,Rmap=0):\n",
    "    glob_dir = input_dir + '*.png'\n",
    "    paths = [path for path in glob.glob(glob_dir)]\n",
    "    if (Rmap == 0):\n",
    "        images = [cv.resize(cv.imread(file,0),(imgsize,imgsize)) for file in paths] #通过通配符读取图像文件并且进行resize\n",
    "    else:\n",
    "        images = [cv.resize(cv.imread(file),(imgsize,imgsize)) for file in paths] #通过通配符读取图像文件并且进行resize\n",
    "    labels = [path.split(os.path.sep)[-2] for path in paths]\n",
    "    names = [path.split(os.path.sep)[-1] for path in paths] #读取对应的名称\n",
    "    # images = np.array(images)/255 #将一张图flatten之后归一化\n",
    "    return images,labels,names"
   ]
  },
  {
   "cell_type": "code",
   "execution_count": 6,
   "metadata": {},
   "outputs": [],
   "source": [
    "input_dir = \"../result/augment_data/augment_img/?/\"\n",
    "images,labels,names = readImgAPathAName(input_dir)"
   ]
  },
  {
   "cell_type": "code",
   "execution_count": 7,
   "metadata": {},
   "outputs": [],
   "source": [
    "\n",
    "os.environ[\"KMP_DUPLICATE_LIB_OK\"]=\"TRUE\""
   ]
  },
  {
   "cell_type": "code",
   "execution_count": 8,
   "metadata": {},
   "outputs": [
    {
     "data": {
      "text/plain": [
       "1800"
      ]
     },
     "execution_count": 8,
     "metadata": {},
     "output_type": "execute_result"
    }
   ],
   "source": [
    "len(images)"
   ]
  },
  {
   "cell_type": "code",
   "execution_count": 9,
   "metadata": {},
   "outputs": [
    {
     "data": {
      "image/png": "[encoded data removed]",
      "text/plain": [
       "<Figure size 288x288 with 1 Axes>"
      ]
     },
     "metadata": {
      "needs_background": "light"
     },
     "output_type": "display_data"
    }
   ],
   "source": [
    "showImg(images[0])"
   ]
  },
  {
   "cell_type": "code",
   "execution_count": 1,
   "metadata": {},
   "outputs": [
    {
     "ename": "NameError",
     "evalue": "name 'plt' is not defined",
     "output_type": "error",
     "traceback": [
      "\u001b[1;31m---------------------------------------------------------------------------\u001b[0m",
      "\u001b[1;31mNameError\u001b[0m                                 Traceback (most recent call last)",
      "\u001b[1;32m<ipython-input-1-746650431842>\u001b[0m in \u001b[0;36m<module>\u001b[1;34m\u001b[0m\n\u001b[1;32m----> 1\u001b[1;33m \u001b[0mplt\u001b[0m\u001b[1;33m.\u001b[0m\u001b[0mhist\u001b[0m\u001b[1;33m(\u001b[0m\u001b[0mimages\u001b[0m\u001b[1;33m[\u001b[0m\u001b[1;36m0\u001b[0m\u001b[1;33m]\u001b[0m\u001b[1;33m.\u001b[0m\u001b[0mravel\u001b[0m\u001b[1;33m(\u001b[0m\u001b[1;33m)\u001b[0m\u001b[1;33m,\u001b[0m\u001b[1;36m256\u001b[0m\u001b[1;33m,\u001b[0m\u001b[1;33m[\u001b[0m\u001b[1;36m0\u001b[0m\u001b[1;33m,\u001b[0m\u001b[1;36m256\u001b[0m\u001b[1;33m]\u001b[0m\u001b[1;33m)\u001b[0m \u001b[1;31m#ravel函数可以将其展平为一维数组，256表示条形bin的个数，【0，256】表示展示的统计范围\u001b[0m\u001b[1;33m\u001b[0m\u001b[1;33m\u001b[0m\u001b[0m\n\u001b[0m\u001b[0;32m      2\u001b[0m \u001b[0mplt\u001b[0m\u001b[1;33m.\u001b[0m\u001b[0mshow\u001b[0m\u001b[1;33m(\u001b[0m\u001b[1;33m)\u001b[0m\u001b[1;33m\u001b[0m\u001b[1;33m\u001b[0m\u001b[0m\n",
      "\u001b[1;31mNameError\u001b[0m: name 'plt' is not defined"
     ]
    }
   ],
   "source": [
    "plt.hist(images[0].ravel(),256,[0,256]) #ravel函数可以将其展平为一维数组，256表示条形bin的个数，【0，256】表示展示的统计范围\n",
    "plt.show()"
   ]
  },
  {
   "cell_type": "code",
   "execution_count": 20,
   "metadata": {},
   "outputs": [],
   "source": [
    "def addNoise(image,max_std=10):\n",
    "    std = tf.random.normal([1],0,max_std,seed=21)\n",
    "    image_f = tf.cast(image,tf.float32)\n",
    "    gs = std * tf.random.normal(tf.shape(image),seed=21)\n",
    "    image_gauss = image_f+gs\n",
    "    image_gauss = tf.maximum(image_gauss,0) #广播机制 返回（item，0）的最大值 即可限制最小值为0\n",
    "    image_gauss = tf.minimum(image_gauss,255)\n",
    "    image_gauss = tf.cast(image_gauss,tf.uint8)\n",
    "    image_gauss = np.array(image_gauss)\n",
    "    return image_gauss"
   ]
  },
  {
   "cell_type": "code",
   "execution_count": 24,
   "metadata": {},
   "outputs": [],
   "source": [
    "'''\n",
    "读取文件夹下所有图片，将其数据增强，二值化，膨胀\n",
    "高斯核去掉噪音，然后使用OTSU算法二值化，再写入文件夹中\n",
    "输入：需要处理的图像list\n",
    "输出：二值化之后的图像list\n",
    "'''\n",
    "def binary_img_augment(images,max_std = 10,kernel=3,iterations = 3):\n",
    "    Gimg_list = []\n",
    "    for i in range(len(images)):\n",
    "        img = images[i]\n",
    "        image_gauss = addNoise(img,max_std=max_std)\n",
    "        #img=cv2.imread('F:cat.jpg',0)flag默认为1，即读取为彩色图像，如果要读取为灰度图（单通道），只需要把flag修改为为0即可。可直接读取灰度图\n",
    "        ret,thImg = cv.threshold(image_gauss,0,255,cv.THRESH_BINARY_INV+cv.THRESH_OTSU)  #修改THRESH_BINARY\n",
    "        mask = cv.dilate(thImg,kernel=(3,3))\n",
    "#         mask = cv.erode(mask,kernel=(kernel,kernel),iterations=iterations)\n",
    "        Gimg_list.append(mask)\n",
    "    return Gimg_list"
   ]
  },
  {
   "cell_type": "markdown",
   "metadata": {},
   "source": [
    "### 增加噪声二值化及膨胀操作将训练数据集保存"
   ]
  },
  {
   "cell_type": "code",
   "execution_count": 30,
   "metadata": {},
   "outputs": [],
   "source": [
    "# directory_name = \"../result/character/\"\n",
    "directory_name = \"../result/augment_data/augment_img\"\n",
    "shutil.rmtree(\"../result/augment_data/augment_mask_Gaussion/\")\n",
    "for filename in os.listdir(directory_name):\n",
    "    paths = [path for path in glob.glob(directory_name+\"/\"+filename+\"/*.png\")] #正则匹配\n",
    "    images = [cv.resize(cv.imread(path,0),(32,32)) for path in paths]\n",
    "    names = [path.split(os.path.sep)[-1] for path in paths]\n",
    "    file_aug = \"../result/augment_data/augment_mask_Gaussion/\"+filename\n",
    "    is_exists = os.path.exists(file_aug)\n",
    "    if not is_exists:\n",
    "        os.makedirs(file_aug)\n",
    "    Gimg_list = binary_img_augment(images,max_std=18,kernel=3,iterations=3)\n",
    "    for i,img in enumerate(Gimg_list):\n",
    "        name = names[i]\n",
    "        cv.imwrite(file_aug+\"/\"+name,img)"
   ]
  },
  {
   "cell_type": "code",
   "execution_count": 15,
   "metadata": {},
   "outputs": [
    {
     "data": {
      "text/plain": [
       "<matplotlib.image.AxesImage at 0x20f01072af0>"
      ]
     },
     "execution_count": 15,
     "metadata": {},
     "output_type": "execute_result"
    },
    {
     "data": {
      "image/png": "[encoded data removed]",
      "text/plain": [
       "<Figure size 432x288 with 1 Axes>"
      ]
     },
     "metadata": {
      "needs_background": "light"
     },
     "output_type": "display_data"
    }
   ],
   "source": [
    "plt.imshow(images[20],cmap = \"gray\")"
   ]
  },
  {
   "cell_type": "markdown",
   "metadata": {},
   "source": [
    "### 读取之后还需要二值化"
   ]
  },
  {
   "cell_type": "code",
   "execution_count": 250,
   "metadata": {},
   "outputs": [],
   "source": [
    "'''\n",
    "读取文件夹下所有图片，将其二值化\n",
    "高斯核去掉噪音，然后使用OTSU算法二值化，再写入文件夹中\n",
    "输入：需要处理的图像list\n",
    "输出：二值化之后的图像list\n",
    "'''\n",
    "def binary_img(images):\n",
    "    Gimg_list = []\n",
    "    for i in range(len(images)):\n",
    "        img = images[i]\n",
    "        #img=cv2.imread('F:cat.jpg',0)flag默认为1，即读取为彩色图像，如果要读取为灰度图（单通道），只需要把flag修改为为0即可。可直接读取灰度图\n",
    "        blur = cv.GaussianBlur(img,(5,5),0)\n",
    "        ret,thImg = cv.threshold(blur,0,255,cv.THRESH_BINARY+cv.THRESH_OTSU)  #修改THRESH_BINARY\n",
    "#         mask = cv.erode(thImg.astype('uint8'), kernel=np.ones((3,3)))\n",
    "        Gimg_list.append(thImg)\n",
    "        \n",
    "    return Gimg_list"
   ]
  },
  {
   "cell_type": "code",
   "execution_count": 174,
   "metadata": {},
   "outputs": [],
   "source": [
    "test_input_dir = \"./result/temp_data/?/\"\n",
    "test_images,test_paths = readImgAPath(test_input_dir,32,0)  #读取进来的时候不是二值图的形式，可能在保存文件的时候出现了加权运算 有损 \n",
    "#使用bmp文件保存才是无损的\n",
    "test_labels = [item.split(os.path.sep)[-2] for item in test_paths]\n",
    "# images_divert = [cv.bitwise_not(item) for item in test_images]  #反转图像黑白转换"
   ]
  },
  {
   "cell_type": "code",
   "execution_count": 179,
   "metadata": {},
   "outputs": [
    {
     "data": {
      "image/png": "[encoded data removed]",
      "text/plain": [
       "<Figure size 288x288 with 1 Axes>"
      ]
     },
     "metadata": {
      "needs_background": "light"
     },
     "output_type": "display_data"
    }
   ],
   "source": [
    "showImg(test_images[500])"
   ]
  },
  {
   "cell_type": "code",
   "execution_count": 186,
   "metadata": {},
   "outputs": [],
   "source": [
    "Gtest_images = binary_img(test_images)"
   ]
  },
  {
   "cell_type": "code",
   "execution_count": 189,
   "metadata": {},
   "outputs": [
    {
     "data": {
      "image/png": "[encoded data removed]",
      "text/plain": [
       "<Figure size 288x288 with 1 Axes>"
      ]
     },
     "metadata": {
      "needs_background": "light"
     },
     "output_type": "display_data"
    }
   ],
   "source": [
    "showImg(Gtest_images[480])"
   ]
  },
  {
   "cell_type": "code",
   "execution_count": null,
   "metadata": {},
   "outputs": [],
   "source": []
  }
 ],
 "metadata": {
  "kernelspec": {
   "display_name": "Python 3",
   "language": "python",
   "name": "python3"
  },
  "language_info": {
   "codemirror_mode": {
    "name": "ipython",
    "version": 3
   },
   "file_extension": ".py",
   "mimetype": "text/x-python",
   "name": "python",
   "nbconvert_exporter": "python",
   "pygments_lexer": "ipython3",
   "version": "3.8.5"
  }
 },
 "nbformat": 4,
 "nbformat_minor": 5
}
