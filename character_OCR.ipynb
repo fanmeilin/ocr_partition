{
 "cells": [
  {
   "cell_type": "code",
   "execution_count": 15,
   "id": "7cd010d5",
   "metadata": {},
   "outputs": [],
   "source": [
    "import cv2 as cv\n",
    "import numpy as np\n",
    "import matplotlib.pyplot as plt\n",
    "import glob\n",
    "from sklearn.model_selection import train_test_split\n",
    "from sklearn import svm\n",
    "import os,shutil"
   ]
  },
  {
   "cell_type": "code",
   "execution_count": 35,
   "id": "29deb1c6",
   "metadata": {},
   "outputs": [],
   "source": [
    "import pytesseract as tess\n",
    "from tqdm import tqdm"
   ]
  },
  {
   "cell_type": "code",
   "execution_count": 2,
   "id": "0cc8e140",
   "metadata": {},
   "outputs": [],
   "source": [
    "'''\n",
    "显示图片\n",
    "输入：图片矩阵，画布大小：元组（宽，高）\n",
    "'''\n",
    "def showImg(img,figsize=(4,4),cmap = \"gray\"):\n",
    "    plt.figure(figsize=figsize)\n",
    "    plt.axis('off')\n",
    "    plt.imshow(img,cmap = cmap)\n",
    "    plt.show()"
   ]
  },
  {
   "cell_type": "code",
   "execution_count": 3,
   "id": "6ac3929e",
   "metadata": {},
   "outputs": [],
   "source": [
    "'''\n",
    "读取文件夹下的所有文件及图片，以灰度图的形式读取并resize到指定大小\n",
    "输入：input_dir：读取的文件夹，可使用模糊匹配,Rmap表示读取的形式，若为0则以灰度图形式读取\n",
    "输出：图像列表，图片的路径列表\n",
    "'''\n",
    "def readImgAPath(input_dir,imgsize=32,Rmap=0):\n",
    "    glob_dir = input_dir + '*.png'\n",
    "    if Rmap==0:\n",
    "        images = [cv.resize(cv.imread(file,0),(imgsize,imgsize)) for file in glob.glob(glob_dir)] #通过通配符读取图像文件并且进行resize\n",
    "    else:\n",
    "        images = [cv.resize(cv.imread(file),(imgsize,imgsize)) for file in glob.glob(glob_dir)] #通过通配符读取图像文件并且进行resize\n",
    "    paths = [file for file in glob.glob(glob_dir)] #读取对应的路径\n",
    "    # images = np.array(images)/255 #将一张图flatten之后归一化\n",
    "    return images,paths"
   ]
  },
  {
   "cell_type": "code",
   "execution_count": 4,
   "id": "03419347",
   "metadata": {},
   "outputs": [],
   "source": [
    "'''\n",
    "读取文件夹下的所有文件及图片，以灰度图的形式读取并resize到指定大小并且进行norm\n",
    "输入：input_dir：读取的文件夹，可使用模糊匹配\n",
    "输出：图像列表，图片的路径列表\n",
    "'''\n",
    "def readImgAPathWithNorm(input_dir,imgsize=32,Rmap=0):\n",
    "    glob_dir = input_dir + '*.png'\n",
    "    if Rmap==0:\n",
    "        images = [cv.resize(cv.imread(file,0),(imgsize,imgsize)) for file in glob.glob(glob_dir)] #通过通配符读取图像文件并且进行resize\n",
    "    else:\n",
    "        images = [cv.resize(cv.imread(file),(imgsize,imgsize)) for file in glob.glob(glob_dir)] #通过通配符读取图像文件并且进行resize\n",
    "    paths = [file for file in glob.glob(glob_dir)] #读取对应的路径\n",
    "    images = np.array(images)/255 #将一张图flatten之后归一化\n",
    "    return images,paths"
   ]
  },
  {
   "cell_type": "code",
   "execution_count": 5,
   "id": "22595a20",
   "metadata": {},
   "outputs": [],
   "source": [
    "# #读取指定文件夹下的所有图片并且resize为224*224 在将图像数据归一化并且通过reshape扁平化\n",
    "# input_dir = \"./result/mask_test/?/\"\n",
    "# glob_dir = input_dir + '*.png'\n",
    "# images = [cv.resize(cv.imread(file,0),(32,32)) for file in glob.glob(glob_dir)] #通过通配符读取图像文件并且进行resize\n",
    "# paths = [file for file in glob.glob(glob_dir)] #读取对应的路径\n",
    "# # images = np.array(images)/255 #将一张图flatten之后归一化"
   ]
  },
  {
   "cell_type": "code",
   "execution_count": 20,
   "id": "59aaefe7",
   "metadata": {},
   "outputs": [],
   "source": [
    "test_input_dir = \"./result/temp_data/?/\"\n",
    "test_images,test_paths = readImgAPath(test_input_dir,100,1)\n",
    "test_labels = [item.split(os.path.sep)[-2] for item in test_paths]\n",
    "# images_divert = [cv.bitwise_not(item) for item in test_images]  #反转图像黑白转换"
   ]
  },
  {
   "cell_type": "code",
   "execution_count": 12,
   "id": "adfd6cb5",
   "metadata": {},
   "outputs": [
    {
     "data": {
      "text/plain": [
       "(3221, (100, 100, 3))"
      ]
     },
     "execution_count": 12,
     "metadata": {},
     "output_type": "execute_result"
    }
   ],
   "source": [
    "len(test_images),test_images[0].shape"
   ]
  },
  {
   "cell_type": "code",
   "execution_count": null,
   "id": "d98cbe60",
   "metadata": {},
   "outputs": [],
   "source": []
  },
  {
   "cell_type": "code",
   "execution_count": 38,
   "id": "0aeeba85",
   "metadata": {},
   "outputs": [
    {
     "name": "stderr",
     "output_type": "stream",
     "text": [
      " 49%|██████████████████████████████████████▍                                       | 1461/2964 [03:06<03:11,  7.84it/s]\n"
     ]
    },
    {
     "ename": "IndexError",
     "evalue": "string index out of range",
     "output_type": "error",
     "traceback": [
      "\u001b[1;31m---------------------------------------------------------------------------\u001b[0m",
      "\u001b[1;31mIndexError\u001b[0m                                Traceback (most recent call last)",
      "\u001b[1;32m<ipython-input-38-159bfe6ede98>\u001b[0m in \u001b[0;36m<module>\u001b[1;34m\u001b[0m\n\u001b[0;32m     13\u001b[0m                   \u001b[1;34m\" -l osd\"\u001b[0m\u001b[1;33m\u001b[0m\u001b[0m\n\u001b[0;32m     14\u001b[0m                   \" \"))\n\u001b[1;32m---> 15\u001b[1;33m     \u001b[1;32mif\u001b[0m \u001b[1;33m(\u001b[0m\u001b[0mlabel\u001b[0m \u001b[1;33m==\u001b[0m \u001b[0mpred\u001b[0m\u001b[1;33m[\u001b[0m\u001b[1;36m0\u001b[0m\u001b[1;33m]\u001b[0m\u001b[1;33m)\u001b[0m\u001b[1;33m:\u001b[0m\u001b[1;33m\u001b[0m\u001b[0m\n\u001b[0m\u001b[0;32m     16\u001b[0m         \u001b[0mhits\u001b[0m\u001b[1;33m.\u001b[0m\u001b[0mappend\u001b[0m\u001b[1;33m(\u001b[0m\u001b[1;36m1\u001b[0m\u001b[1;33m)\u001b[0m\u001b[1;33m\u001b[0m\u001b[0m\n\u001b[0;32m     17\u001b[0m     \u001b[1;32melse\u001b[0m\u001b[1;33m:\u001b[0m\u001b[1;33m\u001b[0m\u001b[0m\n",
      "\u001b[1;31mIndexError\u001b[0m: string index out of range"
     ]
    }
   ],
   "source": [
    "hits = list()\n",
    "shutil.rmtree('./result/tess/error') #递归删除文件夹\n",
    "os.makedirs(\"./result/tess/error\")\n",
    "temp = test_images\n",
    "# for i,img in tqdm(enumerate(temp)):\n",
    "for i in tqdm(range(len(temp))):\n",
    "    img = temp[i]\n",
    "    label = test_labels[i]\n",
    "    pred = tess.image_to_string(img, config=(\n",
    "                  \"-c tessedit\"\n",
    "                  \"_char_whitelist=ABCDEFGHIJKLMNOPQRSTUVWXYZ0123456789\"\n",
    "                  \" --psm 10\"\n",
    "                  \" -l osd\"\n",
    "                  \" \"))\n",
    "    if (label == pred[0]):\n",
    "        hits.append(1)\n",
    "    else:\n",
    "        hits.append(0)\n",
    "        filename = \"./result/tess/error/label is \"+label+\"pred is \"+ pred[0]+\".png\"\n",
    "        cv.imwrite(filename,img)    "
   ]
  },
  {
   "cell_type": "code",
   "execution_count": null,
   "id": "56ef9835",
   "metadata": {},
   "outputs": [],
   "source": [
    "print(\"Accuracy: \", sum(hits)/len(hits))"
   ]
  },
  {
   "cell_type": "markdown",
   "id": "8d49f9db",
   "metadata": {},
   "source": [
    "## 处理 # I O文件夹"
   ]
  },
  {
   "cell_type": "code",
   "execution_count": 10,
   "id": "9bcda065",
   "metadata": {},
   "outputs": [],
   "source": [
    "Pinput_dir = \"./result/raw_car_train/1~/\"\n",
    "Pimages,Ppaths = readImgAPath(Pinput_dir)\n",
    "Pfilenames = [item.split(os.path.sep)[-1] for item in Ppaths]\n",
    "for i in range(len(Pimages)):\n",
    "    img = Pimages[i]\n",
    "    npImg = np.array(img)\n",
    "    npImg[npImg==255] = 0\n",
    "    npImg[(npImg<255)&(npImg>0)] = 255\n",
    "    cv.imwrite(\"./result/label_car_train_binary/1Process/\"+Pfilenames[i],npImg)"
   ]
  },
  {
   "cell_type": "markdown",
   "id": "30f02214",
   "metadata": {},
   "source": [
    "### 处理训练集"
   ]
  },
  {
   "cell_type": "code",
   "execution_count": 5,
   "id": "34080875",
   "metadata": {},
   "outputs": [],
   "source": [
    "input_dir = \"./result/car_dataset/?/\"\n",
    "images,paths = readImgAPath(input_dir)\n",
    "labels = [item.split(os.path.sep)[-2] for item in paths]"
   ]
  },
  {
   "cell_type": "code",
   "execution_count": 10,
   "id": "0dbe46ff",
   "metadata": {},
   "outputs": [],
   "source": [
    "'''\n",
    "读取文件夹下所有图片，将其二值化\n",
    "高斯核去掉噪音，然后使用OTSU算法二值化，再写入文件夹中\n",
    "输入：需要处理的图像list\n",
    "输出：二值化之后的图像list\n",
    "'''\n",
    "def binary_img(images,lables):\n",
    "    Gimg_list = []\n",
    "    for i in range(len(images)):\n",
    "        img = images[i]\n",
    "        #img=cv2.imread('F:cat.jpg',0)flag默认为1，即读取为彩色图像，如果要读取为灰度图（单通道），只需要把flag修改为为0即可。可直接读取灰度图\n",
    "        blur = cv.GaussianBlur(img,(5,5),0)\n",
    "        ret,thImg = cv.threshold(blur,0,255,cv.THRESH_BINARY+cv.THRESH_OTSU)  #修改THRESH_BINARY\n",
    "#         mask = cv.erode(thImg.astype('uint8'), kernel=np.ones((3,3)))\n",
    "        Gimg_list.append(thImg)\n",
    "        \n",
    "        #保存至文件夹\n",
    "        Ldir = \"./result/carBinary/\"+lables[i]\n",
    "        isExists=os.path.exists(Ldir)\n",
    "        if not isExists:\n",
    "            os.makedirs(Ldir)\n",
    "        cv.imwrite(Ldir+\"/\"+str(i)+\".png\",thImg)\n",
    "    return Gimg_list"
   ]
  },
  {
   "cell_type": "code",
   "execution_count": 11,
   "id": "73f15018",
   "metadata": {},
   "outputs": [],
   "source": [
    "Gimg_list = binary_img(images,labels)"
   ]
  },
  {
   "cell_type": "markdown",
   "id": "a66205a0",
   "metadata": {},
   "source": [
    "### SVM方法"
   ]
  },
  {
   "cell_type": "code",
   "execution_count": 39,
   "id": "aec7119f",
   "metadata": {},
   "outputs": [],
   "source": [
    "from sklearn import datasets\n",
    "from sklearn.metrics import accuracy_score\n",
    "# digits = datasets.load_digits() # 加载数据\n",
    "# # 把数据所代表的图片显示出来\n",
    "# images_and_labels = list(zip(digits.images, digits.target))\n",
    "# plt.figure(figsize=(8, 6))\n",
    "# for index, (image, label) in enumerate(images_and_labels[:8]):\n",
    "#     plt.subplot(2, 4, index + 1)\n",
    "#     plt.axis('off')\n",
    "#     plt.imshow(image, cmap=plt.cm.gray_r, interpolation='nearest')\n",
    "#     plt.title('Digit: %i' % label, fontsize=20);\n"
   ]
  },
  {
   "cell_type": "code",
   "execution_count": 24,
   "id": "86890b75",
   "metadata": {},
   "outputs": [],
   "source": [
    "images_flatten = np.array(np.float32(Gimg_list).reshape(len(Gimg_list),-1)/255)\n",
    "test_images_flatten = np.array(np.float32(test_images).reshape(len(test_images),-1)/255)"
   ]
  },
  {
   "cell_type": "code",
   "execution_count": 40,
   "id": "db982fab",
   "metadata": {},
   "outputs": [
    {
     "data": {
      "text/plain": [
       "0.9891891891891892"
      ]
     },
     "execution_count": 40,
     "metadata": {},
     "output_type": "execute_result"
    }
   ],
   "source": [
    "Xtrain, Xtest, Ytrain, Ytest = train_test_split(images_flatten, labels, test_size=0.20, random_state=2)\n",
    "clf = svm.SVC(gamma=0.001, C=100., probability=True)\n",
    "clf.fit(Xtrain, Ytrain)\n",
    "Ypred = clf.predict(Xtest)\n",
    "accuracy_score(Ytest, Ypred)"
   ]
  },
  {
   "cell_type": "code",
   "execution_count": 41,
   "id": "823e0ffc",
   "metadata": {},
   "outputs": [
    {
     "data": {
      "text/plain": [
       "0.2598571872089413"
      ]
     },
     "execution_count": 41,
     "metadata": {},
     "output_type": "execute_result"
    }
   ],
   "source": [
    "test_pred = clf.predict(test_images_flatten)\n",
    "accuracy_score(test_labels, test_pred)"
   ]
  },
  {
   "cell_type": "code",
   "execution_count": 29,
   "id": "144b0f13",
   "metadata": {},
   "outputs": [
    {
     "data": {
      "text/plain": [
       "0.34119838559453586"
      ]
     },
     "execution_count": 29,
     "metadata": {},
     "output_type": "execute_result"
    }
   ],
   "source": [
    "clf = svm.SVC()\n",
    "clf.fit(images_flatten,labels)\n",
    "print(clf.score(test_images_flatten,test_labels))"
   ]
  },
  {
   "cell_type": "code",
   "execution_count": 48,
   "id": "ee2c6ed3",
   "metadata": {},
   "outputs": [
    {
     "data": {
      "text/plain": [
       "array(['#', '#', '#', '#', '#', '#', '#', '#', '#', '#', '#', '#', '#',\n",
       "       '#', '#', '#', '1', '#', '#', '#', '#', '#', '#', '1', '#', '1',\n",
       "       '#', '#', '#', '#', '#', '#', '#', '#', '#', '#', '#', '#', '#',\n",
       "       '#', '#', '#', '#', '#', '#', '#', '#', '#', '#', '#', '#', '#',\n",
       "       '#', '#', '#', '#', '#', '#', '#', '1', '#', '#', '#', '#', '#',\n",
       "       '#', '#', '1', '#', '#', '#', '#', '#', '#', '#', '#', '#', '#',\n",
       "       '#', '#', '#', '#', '#', '#', '#', '#', '#', '#', '#', '#', '#',\n",
       "       '#', '#', '#', '#', '#', '#', '#', '#', '#', '#', '#', '#', '#',\n",
       "       '#', '#', '#', '#', '#', '#', '#', '#', '#', '#', '#', '#', '#',\n",
       "       '#', '1', '#', '#', '#', '#', '#', '#', '#', '#', '#', '1', '#',\n",
       "       '#', '#', '#', '#', '#', '#', '#', '#', '#', '#', '#', '#', '1',\n",
       "       '1', '1', '1', '#', '#', '#', '#', '#', '#', '#', '#', '#', '#',\n",
       "       '#', '1', '#', '#', '1', '#', '#', '1', '#', '#', '#', '#', '1',\n",
       "       '#', '1', '#', '#', '#', '#', '#', '#', '#', '#', '#', '#', '#',\n",
       "       '#', '#', '#', '#', '#', '1', '#', '#', '#', '#', '#', '#', '#',\n",
       "       '#', '#', '#', '#', '#', '#', '1', '#', '#', '#', '#', '#', '#',\n",
       "       '#', '#', '#', '#', '#', '#', '#', '#', '#', '1', '#', '#', '1',\n",
       "       '#', '#', '#', '#', '#', '#', '#', '#', '#', '#', '#', '#', '#',\n",
       "       '#', '#', '#', '#', '#', '#', '#', '#', '#', '#', '#', '#', '#',\n",
       "       '#', '#', '#', '#', '#', '#', '#', '#', '#', '#', '8', 'I', 'Y',\n",
       "       'I', 'I', '8', '8', 'I', 'Y', 'I', 'I', '8', '4', '8', 'I', '6',\n",
       "       '6', '8', 'I', '8', '6', '5', '4', '5', 'I', 'I', 'I', 'I', 'I',\n",
       "       '5', 'I', 'I', 'I', '4', '4', '8', 'I', 'I', 'Y', '8', 'Q', '4',\n",
       "       'I', 'Y', 'I', 'I', 'I', '8', '4', '4', '8', 'I', 'Y', '5', '4',\n",
       "       '5', '4', '5', '4', '4', '4', '4', 'Y', '4', '4', '6', 'I', '4',\n",
       "       'I', 'Y', '5', '4', '5', 'I', 'Y', '4', '4', '4', 'I', '4', '4',\n",
       "       'Y', 'Y', 'S', '4', '4', 'Y', '4', '4', '4', 'I', '4', 'I', '4',\n",
       "       '4', 'Y', '5', 'Y', '4', '4', '4', '4', '4', 'I', 'Y', '4', '5',\n",
       "       '4', '4', 'I', 'Y', '4', 'S', '#', '4', '6', 'I', 'Y', 'Y', '5',\n",
       "       '4', '4', 'Y', '4', '4', 'I', 'Y', 'Y', '4', 'Y', 'I', '4', '4',\n",
       "       '4', '8', '5', 'Y', '4', 'I', 'I', '4', '4', '4', '4', '4', '4',\n",
       "       '6', 'S', '4', 'Y', 'Y', '4', '5', 'Y', '4', '4', 'Y', '4', 'I',\n",
       "       '4', '4', '4', 'Y', 'I', 'Y', '4', 'Y', 'I', '4', 'Y', '4', 'I',\n",
       "       'Y', 'S', '4', '4', 'I', '4', 'I', '4', '4', 'S', '4', 'S', '5',\n",
       "       '4', '4', '4', '4', 'I', 'Y', 'Y', '4', '4', '4', '4', 'Y', '4',\n",
       "       '4', 'Y', 'Y', '4', 'I', 'S', '4', 'I', '4', '4', '4', 'I', '4',\n",
       "       '4', '4', '5', 'I', '4', 'Y', '6', 'Y', '5', '4', '4', 'Y', 'I',\n",
       "       '8', 'Y', 'Y', '4', '4', 'Y', 'S', '4', '4', '8', '4', 'Y', 'Y',\n",
       "       '4', '4', 'Y', 'S', '4', 'Y', '4', 'Y', '4', 'I', '4', 'S', '4',\n",
       "       'Y', 'I', 'Y', 'S', 'Y', 'Y', '4', 'I', 'I', 'I', 'I', '5', 'I',\n",
       "       'S', '4', 'Y', 'Y', 'I', 'Y', 'Y', '6', '4', '4', '2', '6', '6',\n",
       "       'I', 'Y', '4', '8', '8', 'I', 'I', '4', 'I', 'I', '8', 'I', 'I',\n",
       "       '8', 'I', '6', 'Y', '8', '5', '5', 'I', '5', '4', 'I', 'I', '8',\n",
       "       'I', 'I', '5', '8', '4', 'I', 'I', 'I', 'I', 'I', 'I', '8', 'I',\n",
       "       'I', '6', 'I', 'I', 'I', 'S', '4', '4', 'I', 'I', '4', '8', 'I',\n",
       "       'I', '1', '1', '1', '1', '1', '1', '1', '1', '1', '1', '1', '1',\n",
       "       '1', '1', 'T', '1', '1', '1', '1', '1', '1', '1', '1', '1', '1',\n",
       "       '1', '1', '1', '1', '1', '1', '1', '1', '1', '1', '1', '1', '1',\n",
       "       '1', '1', '1', '1', '1', '1', '1', '1', '1', '1', '1', '1', '1',\n",
       "       '1', '1', '1', '1', '1', '1', '1', '1', '1', 'I', '1', '1', '1',\n",
       "       '1', '1', '1', '1', '1', '1', '1', '1', '1', '1', '1', '1', '1',\n",
       "       '1', '1', '1', '1', '1', '1', '1', '1', '1', '1', '1', '1', '1',\n",
       "       '1', 'I', 'I', 'I', 'I', 'I', 'I', 'I', '#', '#', 'I', 'Z', 'I',\n",
       "       'I', 'I', 'I', 'I', 'I', 'I', 'I', 'I', 'I', 'I', '#', 'I', 'I',\n",
       "       'I', 'I', 'I', 'I', 'I', 'I', '#', 'I', 'I', 'I', '#', 'I', 'I',\n",
       "       'I', 'I', 'I', 'I', 'I', '#', 'I', '#', 'I', 'I', 'I', 'I', 'I',\n",
       "       'I', 'I', 'I', 'I', 'I', 'I', 'I', 'I', '#', 'I', 'I', 'I', 'I',\n",
       "       'I', 'I', 'I', 'I', '#', 'I', 'I', 'I', 'I', 'I', 'I', 'I', 'I',\n",
       "       'I', 'I', 'I', 'I', 'I', 'I', 'I', 'I', 'I', 'I', 'I', 'I', 'S',\n",
       "       'I', 'I', 'I', 'I', 'I', 'I', 'I', 'I', 'I', 'I', 'I', 'I', 'I',\n",
       "       'I', 'I', '#', '2', 'I', '#', 'I', 'I', '#', 'I', 'I', 'I', 'I',\n",
       "       'I', 'I', '#', '#', '#', '#', '#', 'I', '#', 'I', '#', '#', '#',\n",
       "       '#', '#', '#', 'I', 'I', '#', '#', '#', '#', '#', 'I', 'I', 'I',\n",
       "       '#', '#', 'I', 'I', '#', '#', '#', '#', 'I', '#', '#', '#', '#',\n",
       "       'I', 'I', '#', 'I', 'I', 'I', 'I', '#', 'I', 'I', '#', '#', '#',\n",
       "       '#', '#', 'I', 'I', '#', '#', '#', 'I', '#', '#', '#', '#', 'I',\n",
       "       '#', '#', 'I', '#', '#', 'I', 'I', 'I', '#', '#', '#', '#', 'I',\n",
       "       '#', '#', '#', 'I', 'I', 'I', 'I', 'I', '#', 'I', '#', '#', '#',\n",
       "       '#', '#', 'I', '#', 'I', '#', '#', '#', '#', '#', '#', '#', '#',\n",
       "       'I', 'I', 'I', 'I', '#', '#', '#', '#', '#', 'I', 'I', '#', 'I',\n",
       "       'I', '#', '#', '#', 'I', '#', '#', '#', '#', '#', '#', 'I', '#',\n",
       "       '#', 'I', '#', 'I', 'I', '#', '#', '#', 'I', '#', '#', '#', '#',\n",
       "       '#', '#', '#', 'I', '#', 'I', 'I', '#', 'I', '#', '#', 'I', 'I',\n",
       "       '#', '#', '#', 'I', 'I', '#', '#', '#', '#', '#', '#', '#', 'I',\n",
       "       'I', 'I', '#', '#', '#', '#', 'I', '#', 'I', '#', 'I', '#', '#',\n",
       "       'I', '#', '#', '#', '#', '#', '#', '#', '#', '#', 'I', 'I', '#',\n",
       "       '#', '#', '#', 'I', '#', '#', '#', '#', 'I', '#', '#', '#', '#',\n",
       "       'I', '#', '#', '#', '#', '#', 'I', 'I', '#', 'I', '#', '#', '#',\n",
       "       '#', 'I', 'I', 'I', '#', '#', '#', '#', 'I', 'I', 'I', '#', 'I',\n",
       "       '#', '#', 'I', '#', '#', '#', 'I', '2', '#', '#', '#', '#', '#',\n",
       "       '#', '#', '#', 'I', '#', 'I', 'I', 'I', 'I', '#', '#', '#', '#',\n",
       "       'I', '#', 'I', '#', '#', 'I', '2', 'I', '#', '#', 'I', 'I', '#',\n",
       "       '#', '#', '#', 'I', 'I', '#', 'I', 'I', '#', '#', 'I', 'I', '#',\n",
       "       '#', '#', '#', 'I', '#', '#', '#', '#', 'I', '1', '#', '#', 'I',\n",
       "       'I', '#', '#', 'I', '2', 'I', 'I', 'I', '#', '2', 'I', '#', '#',\n",
       "       '#', '#', 'I', '#', 'I', 'I', '#', 'I', '#', 'I', 'I', '1', 'I',\n",
       "       'I', 'I', 'I', '#', '#', '#', '#', '2', '2', 'I', '#', '#', '#',\n",
       "       '#', '#', '#', '#', '#', '#', 'I', '#', 'I', 'I', '#', 'I', '#',\n",
       "       '#', 'I', '#', '#', '#', '#', '#', 'I', 'I', '#', '#', '#', '#',\n",
       "       'I', 'I', '#', '#', '#', '#', 'I', 'I', '#', '#', '#', '#', '#',\n",
       "       'I', 'I', '#', '#', 'I', 'I', '#', '#', '#', 'I', '#', 'I', 'I',\n",
       "       'I', '#', '#', '#', '#', 'I', '#', '#', '#', '#', 'I', 'I', '#',\n",
       "       '#', '#', '#', '#', '#', '#', '#', 'I', '#', '#', '#', 'I', 'I',\n",
       "       'I', '#', '1', 'I', '#', '#', '2', '2', '#', '#', '#', '#', '#',\n",
       "       '#', 'I', '#', '#', '#', 'I', '#', '#', '#', '#', '#', '#', '#',\n",
       "       '#', 'I', '2', '2', 'I', 'I', 'I', '#', 'I', 'I', '#', '#', 'I',\n",
       "       '#', '#', 'I', 'I', 'I', 'I', '#', 'I', 'I', '#', 'I', 'I', 'I',\n",
       "       'I', 'I', '2', 'I', 'I', 'I', 'I', 'I', 'I', 'I', 'I', '#', 'I',\n",
       "       'I', '#', 'I', 'I', 'I', 'I', 'I', 'I', 'I', 'I', 'I', 'I', 'I',\n",
       "       'I', 'I', 'I', 'I', 'I', 'I', 'I', 'I', '#', 'I', 'I', 'I', 'I',\n",
       "       'I', 'I', '2', 'I', 'I', 'I', 'I', 'I', 'I', '#', 'I', 'I', '#',\n",
       "       'I', 'I', '#', 'I', 'I', 'I', 'I', 'I', 'I', 'I', 'I', 'I', 'I',\n",
       "       'I', 'I', 'I', 'I', 'I', 'I', '#', 'I', 'I', 'I', 'I', 'I', '#',\n",
       "       '#', 'I', 'I', 'I', 'I', '#', 'I', 'I', 'I', 'I', 'I', 'I', 'I',\n",
       "       '#', 'I', 'I', 'I', 'I', '#', 'I', 'I', 'I', 'I', '#', 'I', 'I',\n",
       "       'I', 'I', 'I', 'I', 'I', '#', 'S', '6', 'I', 'I', '6', 'I', 'I',\n",
       "       'S', '6', '6', 'I', '6', 'S', '6', '6', '6', 'Y', '6', '6', '6',\n",
       "       'S', 'I', 'I', '6', '6', 'S', '6', 'I', 'S', 'I', 'I', 'I', 'I',\n",
       "       'S', '6', '6', 'I', '6', 'I', 'I', '6', '6', 'S', 'S', 'S', 'I',\n",
       "       'I', 'S', '6', '6', 'S', 'T', '6', 'I', '6', 'S', '6', 'I', 'S',\n",
       "       'I', 'S', 'I', 'I', 'I', 'I', '8', 'A', '4', '6', 'S', '6', '6',\n",
       "       'S', '6', '6', '#', '6', '#', '6', 'S', '#', '6', '6', '6', 'S',\n",
       "       'S', '6', '6', 'I', '6', 'I', 'S', '6', 'I', 'S', '6', 'I', '6',\n",
       "       '6', '6', 'I', 'I', 'Y', 'A', '6', 'S', '#', 'I', 'I', '#', '6',\n",
       "       '6', '6', 'I', '6', '6', 'Y', '6', '#', '6', '6', '6', '#', '6',\n",
       "       'Y', '6', '6', 'S', 'I', 'I', '4', '6', 'S', 'Y', '6', '#', '#',\n",
       "       'I', '#', '6', '6', 'I', 'S', '#', '#', '6', '#', '#', 'I', 'I',\n",
       "       '6', '4', '6', '6', 'I', '#', '1', '6', '6', '6', '#', '6', '6',\n",
       "       'S', '6', 'S', 'I', 'I', '6', '#', '#', '6', '6', '#', '6', '4',\n",
       "       'I', '1', '#', '#', '6', '6', 'S', '6', '#', '6', 'S', '6', 'I',\n",
       "       'I', '6', '6', '6', '6', 'S', '6', '#', '6', '6', '#', '6', '#',\n",
       "       '6', '6', 'I', '#', '6', 'I', 'S', 'S', '#', '6', '6', 'I', '#',\n",
       "       '6', '1', '6', '6', 'Y', '6', '6', 'Y', '6', '6', '#', '6', '6',\n",
       "       '6', '#', 'I', '6', '6', '6', '#', '4', '#', '4', '6', '6', '6',\n",
       "       '6', '#', 'S', 'S', '6', 'Y', '6', '#', 'S', '6', '6', '#', '6',\n",
       "       'S', '6', '6', '#', '#', '6', '6', 'I', '6', '6', '6', 'S', '6',\n",
       "       '4', '#', 'I', '#', '#', '4', '6', '6', '#', 'I', '6', '6', '#',\n",
       "       '6', '4', '#', 'S', 'A', '6', '#', '1', 'L', '6', '6', '#', '6',\n",
       "       '1', '#', '6', '6', '#', 'S', '6', '6', 'A', '#', '6', 'S', 'S',\n",
       "       '6', '6', '6', 'I', 'I', '6', '6', 'I', '#', '#', '#', '6', 'S',\n",
       "       '#', '6', 'S', '4', '6', 'S', 'I', '6', 'I', '6', '6', '6', '6',\n",
       "       'S', 'S', 'S', '6', '6', '6', 'S', '6', '6', '#', 'S', '6', 'I',\n",
       "       '#', '#', 'I', '4', 'I', 'S', '#', 'S', 'Y', '6', '6', '#', 'I',\n",
       "       'A', 'S', '#', 'I', '#', 'S', '6', '1', '6', '6', '#', '#', '6',\n",
       "       'I', '6', '#', '6', '6', '6', 'S', 'S', '6', 'I', 'I', '6', '6',\n",
       "       '6', 'Y', '#', '6', '#', '#', 'I', '6', '6', 'I', 'S', '#', '6',\n",
       "       '6', '#', 'I', 'I', 'I', 'I', 'I', 'S', '6', '6', '#', '6', '#',\n",
       "       'S', '6', '#', '#', '6', 'I', '6', '6', '6', '6', '6', '6', '#',\n",
       "       '6', '#', '6', '6', 'I', '6', '#', '6', '6', 'S', '#', '#', '6',\n",
       "       '6', '6', 'I', '6', 'I', 'S', '6', '6', '6', '#', '6', 'I', 'Y',\n",
       "       '6', '#', '6', '6', '#', '6', '#', '6', '#', '6', 'S', 'Y', '6',\n",
       "       'I', '6', '#', 'I', '#', '#', 'Y', 'I', '#', 'S', 'Y', 'I', '#',\n",
       "       '#', '6', '6', 'S', '1', '#', '6', '#', '6', 'S', '6', '6', 'S',\n",
       "       '6', 'I', '#', '#', '6', '6', '6', 'I', '#', '6', 'S', '#', '6',\n",
       "       '#', '6', '#', 'S', '6', 'I', '6', '#', 'S', '#', '#', 'I', '4',\n",
       "       'I', 'I', 'Y', '6', '6', '#', '6', '6', 'I', '6', 'I', '#', '6',\n",
       "       '6', '4', 'S', 'I', 'I', 'S', 'S', '6', '6', 'S', '6', 'I', 'I',\n",
       "       '6', 'I', 'I', '6', 'S', 'S', 'I', 'I', 'S', 'I', 'I', '6', 'S',\n",
       "       '6', 'S', 'I', 'I', '6', '6', '6', 'I', 'I', 'I', 'I', 'A', 'S',\n",
       "       'S', 'I', 'Y', '1', 'I', 'S', '6', 'I', 'I', 'S', 'S', '6', 'S',\n",
       "       'S', '4', 'S', '6', '6', '6', '6', 'I', 'S', 'I', 'I', '6', '6',\n",
       "       'I', 'S', '6', 'I', 'I', '6', 'I', 'S', '6', 'I', '6', 'S', 'S',\n",
       "       'S', 'I', 'S', 'I', 'I', 'I', '6', 'I', '6', 'I', 'I', '6', 'S',\n",
       "       'S', 'I', 'I', '6', '8', '8', '8', '8', 'A', 'A', '7', '8', '8',\n",
       "       '8', '4', 'S', '8', '8', '8', '8', '8', '4', 'S', 'S', '8', '8',\n",
       "       '8', '8', '8', '8', 'S', '8', '8', '4', '8', '8', '8', '8', '8',\n",
       "       'Z', '8', 'S', '8', '4', '8', '8', '8', '8', '8', 'S', '6', 'S',\n",
       "       '8', '4', '8', 'S', 'S', 'W', '8', '8', '4', '8', '4', 'I', 'I',\n",
       "       '8', 'S', 'S', '8', '8', 'S', '6', 'S', 'S', '6', '8', '4', 'S',\n",
       "       'A', '6', 'S', 'I', '4', 'A', 'A', 'S', 'S', '4', '8', 'S', '8',\n",
       "       'S', 'S', 'S', 'S', 'S', 'I', 'I', '4', 'S', 'S', 'S', 'S', 'A',\n",
       "       'S', '4', 'A', '#', '4', 'S', 'I', '4', 'S', 'S', '8', '#', 'A',\n",
       "       'S', '4', 'I', 'I', 'S', '#', 'Y', '6', 'A', '8', 'I', '4', 'I',\n",
       "       'S', '4', 'I', 'Y', 'S', 'S', 'S', '5', 'A', 'S', 'S', 'A', '4',\n",
       "       'S', 'S', 'A', '4', '4', '4', 'S', '4', 'I', 'S', '8', 'I', 'Y',\n",
       "       'S', 'S', 'S', 'I', 'I', '#', 'S', 'A', 'S', '8', 'A', '6', '#',\n",
       "       'A', '6', '6', 'A', '6', '6', 'I', 'A', '4', 'I', '#', 'S', 'S',\n",
       "       'S', '4', 'S', 'S', 'S', 'S', 'S', 'Y', 'S', 'S', '4', '6', 'S',\n",
       "       '6', 'I', '4', 'I', 'S', 'A', '#', '8', 'Y', 'I', 'A', 'A', 'I',\n",
       "       'I', '4', '6', 'S', 'A', 'S', 'S', 'V', 'A', 'S', 'S', '#', '5',\n",
       "       '8', '4', 'I', '#', 'I', '4', 'S', 'S', '6', 'S', '6', 'S', '4',\n",
       "       '4', '8', '4', 'I', 'A', 'I', '8', 'A', '8', 'S', 'A', 'I', 'I',\n",
       "       'S', 'S', '4', 'I', 'A', 'S', 'S', 'S', 'I', 'A', 'S', '8', '4',\n",
       "       '#', 'S', '#', '4', '4', 'A', 'I', 'I', '#', 'S', '4', 'S', '#',\n",
       "       'I', '1', 'Y', 'S', '8', 'S', 'I', 'S', 'S', 'S', 'I', 'I', 'I',\n",
       "       'A', 'I', '#', 'Y', '4', '4', '8', 'S', 'I', 'A', 'I', '6', '8',\n",
       "       '8', '8', '8', '8', '8', '8', 'S', '8', '8', '8', 'S', '8', '8',\n",
       "       'S', '8', '8', '8', 'S', '8', '8', '8', '8', '4', 'S', '4', '6',\n",
       "       '8', '4', '8', '8', '8', '8', 'S', '4', '4', '8', 'S', 'S', 'S',\n",
       "       '8', '8', '8', '8', '8', '8', '8', 'S', 'I', '8', 'S', '8', '4',\n",
       "       '8', '8', '8', '8', '4', '8', 'S', 'S', 'S', 'A', 'S', '8', '8',\n",
       "       'S', '8', 'S', '8', '8', 'S', '#', 'Y', '#', '#', 'T', '#', 'T',\n",
       "       '#', '#', '#', '#', '#', '#', '#', '#', '#', '#', '#', '#', '#',\n",
       "       '#', '#', '#', '#', '#', '#', '#', '#', '#', '#', 'H', '8', 'H',\n",
       "       'H', 'H', '8', 'H', 'H', 'H', '4', '4', 'H', 'H', '8', 'H', '8',\n",
       "       'H', 'H', 'H', 'H', 'H', 'H', 'H', 'H', 'H', 'H', 'H', 'H', 'H',\n",
       "       'E', 'H', 'H', 'H', 'H', 'H', 'H', 'H', 'H', 'H', 'H', 'H', 'H',\n",
       "       'H', '8', 'H', 'H', '8', '5', '8', '8', 'H', 'H', '5', 'H', '8',\n",
       "       '#', 'V', 'H', '8', 'H', '#', '8', '#', 'H', 'H', '8', 'H', 'H',\n",
       "       '4', '8', 'H', '4', 'H', 'H', '#', 'H', 'H', '4', '8', '8', '8',\n",
       "       '5', '#', 'H', '#', '8', 'H', '#', 'H', '#', '#', '4', 'S', '8',\n",
       "       '8', '5', 'H', '#', '8', '#', 'H', '8', '8', '5', '#', '#', 'H',\n",
       "       '4', 'H', '7', 'H', 'H', '5', 'S', '8', 'H', 'H', '#', 'H', '#',\n",
       "       'H', '8', '8', 'H', 'H', '#', '4', 'H', '8', '8', 'H', 'H', 'H',\n",
       "       '4', 'H', 'H', 'H', 'H', '#', 'H', 'H', '5', '#', 'H', '8', 'H',\n",
       "       'H', 'H', 'H', '#', 'H', 'H', '#', '4', 'H', '5', '8', 'H', 'H',\n",
       "       'H', '#', 'H', 'H', 'H', '4', 'H', 'H', 'H', '8', '4', '#', '#',\n",
       "       '#', '8', '8', 'H', 'H', '#', '5', 'H', '#', '8', 'H', 'H', '#',\n",
       "       '#', '8', '8', 'H', '5', '4', '8', 'H', 'H', 'H', '#', 'H', '8',\n",
       "       '#', '#', 'H', '#', 'H', 'H', 'H', '#', '8', '#', 'H', '#', '#',\n",
       "       'H', '5', '5', '4', '8', '8', '#', '5', '4', '#', 'H', 'H', 'H',\n",
       "       '#', '4', 'H', '8', 'H', 'H', '4', '4', 'H', 'V', '#', '#', '8',\n",
       "       'H', '5', 'H', '8', 'H', '8', '8', '#', 'H', '4', '5', '8', '#',\n",
       "       'V', '4', 'H', '#', 'H', '4', '#', 'H', '#', '#', 'H', '#', '#',\n",
       "       '8', '5', '#', '8', '7', 'H', '#', '#', 'H', '8', '5', 'H', 'H',\n",
       "       'S', '8', 'H', '8', 'H', 'H', '8', 'H', '8', '5', 'H', 'H', 'H',\n",
       "       'H', 'H', 'H', 'H', 'H', 'H', 'H', 'H', 'H', 'H', 'H', 'H', 'H',\n",
       "       'H', 'H', '8', 'H', 'H', 'H', 'H', 'H', 'K', 'H', 'H', 'H', 'H',\n",
       "       'H', 'F', 'H', 'H', 'H', '8', 'H', 'H', 'H', '8', 'H', 'H', '8',\n",
       "       '8', 'S', '1', '1', '1', 'I', '1', '1', '1', 'I', '1', '1', '1',\n",
       "       'I', '1', 'I', '1', '1', '1', '1', 'I', 'I', '1', '1', 'I', '1',\n",
       "       'I', 'I', '1', '1', '1', '1', '1', '1', 'I', '1', '1', '1', 'I',\n",
       "       '1', '1', '1', 'I', '1', '1', '1', 'I', '1', 'I', '1', '1', '1',\n",
       "       '1', '1', 'L', '1', 'I', '1', '1', '1', '1', 'I', 'I', 'I', '1',\n",
       "       'I', '1', 'L', '1', '1', 'I', '1', '#', '#', '#', 'T', '#', '#',\n",
       "       '#', '1', '#', '#', '#', '1', '#', '1', '#', '#', '#', '#', '#',\n",
       "       '#', '#', '#', '#', '#', '#', '#', '#', 'Y', '#', '#', '1', '#',\n",
       "       '#', '#', '#', '#', '#', 'Y', '#', '#', '#', '#', 'Y', '#', '#',\n",
       "       '#', '2', '#', '#', '#', '#', '#', '#', '#', '#', '1', '#', '#',\n",
       "       '#', '#', '#', '#', '#', '#', '#', '#', '#', '#', '#', '#', '#',\n",
       "       '#', '#', '#', '#', '#', '#', '#', '#', '#', '#', '#', '#', '#',\n",
       "       '#', '1', '#', '#', '#', '#', '#', '#', '1', '#', '1', '#', '1',\n",
       "       '#', '#', '#', '#', '#', '#', '#', '#', '#', '#', '#', '#', '#',\n",
       "       '#', '1', '#', '#', '#', '#', '#', '#', '#', '#', '1', '1', '#',\n",
       "       '#', '1', '#', '#', '#', '1', '#', '#', '1', '#', '#', '#', '#',\n",
       "       '#', '1', '#', '#', '1', '1', '1', '#', '#', '#', '#', '#', '#',\n",
       "       '1', '#', '#', '#', '#', '#', '#', '1', '#', '#', '#', '#', '#',\n",
       "       '1', '#', '#', '#', '#', '#', '#', '#', '#', '#', '#', '#', '#',\n",
       "       '#', '#', '#', '#', '#', '#', '1', '#', '#', '#', '#', '#', '#',\n",
       "       '#', '#', '#', '1', '#', '1', '#', '#', '1', '#', '#', '#', '#',\n",
       "       '#', '#', '#', '#', '#', '#', '1', '#', '#', '#', '#', '1', '2',\n",
       "       '#', '#', 'Y', '1', '#', '1', '#', '#', '#', '#', '1', '1', '#',\n",
       "       '#', '#', '#', '#', '#', '#', '#', '1', '#', '1', '#', '#', '#',\n",
       "       '1', '1', '#', '#', '#', '#', '#', '#', '1', '#', '#', '#', '1',\n",
       "       '#', '#', '#', '#', '#', '#', '#', '#', '#', '#', '#', '#', '#',\n",
       "       '#', '#', '#', '#', '#', '#', '2', '#', '#', '2', '#', '#', '#',\n",
       "       '#', '#', 'Y', '#', '#', '#', '#', '#', '#', '#', '#', '#', '#',\n",
       "       '#', '#', '7', '#', '#', '1', '#', '1', 'Y', '#', '#', '#', '1',\n",
       "       '#', '#', '#', '#', '#', '#', '#', '#', '#', '#', '#', '#', '#',\n",
       "       '#', '#', '#', '#', '#', '#', '1', '#', '8', '#', '2', 'S', 'S',\n",
       "       'S', 'I', 'S', 'S', 'S', 'S', 'S', 'S', 'S', 'S', 'S', 'S', 'S',\n",
       "       'S', 'S', 'S', 'S', 'S', 'S', 'S', 'S', 'S', 'S', 'S', 'I', 'S',\n",
       "       'S', 'S', 'S', 'S', 'S', 'S', 'S', 'S', 'I', 'S', 'S', 'S', 'S',\n",
       "       'S', 'S', 'S', 'I', 'S', 'S', 'S', 'S', 'S', 'S', 'S', 'S', 'S',\n",
       "       'S', 'S', 'S', 'S', 'S', 'S', 'S', 'S', 'S', 'S', 'S', 'S', 'S',\n",
       "       'S', 'S', 'S', 'S', '#', '1', '#', 'Y', '1', '#', '3', '#', '1',\n",
       "       'Y', '7', '#', '1', '#', '1', '#', '1', '#', '#', '#', '1', 'Y',\n",
       "       '#', '1', 'Y', '#', '#', '#', 'Y', '#', '1', 'Y'], dtype='<U1')"
      ]
     },
     "execution_count": 48,
     "metadata": {},
     "output_type": "execute_result"
    }
   ],
   "source": [
    "np.set_printoptions(threshold=np.inf) #显示所有内容\n",
    "test_pred"
   ]
  },
  {
   "cell_type": "code",
   "execution_count": 21,
   "id": "256f5571",
   "metadata": {},
   "outputs": [],
   "source": [
    "#使用tesseract和template 目前无法正确显示\n",
    "# text_list = []\n",
    "# for image in images_divert:\n",
    "#     text = tess.image_to_string(image)\n",
    "# #     print(text)\n",
    "#     text_list.append(text)\n",
    "# template = ['0','1','2','3','4','5','6','7','8','9','/',\n",
    "#             'A','B','C','D','E','F','G','H','I','J','K','L','M','N','O','P','Q','R','S','T','U','V','W','X','Y','Z']"
   ]
  },
  {
   "cell_type": "markdown",
   "id": "5b08747f",
   "metadata": {},
   "source": [
    "### 神经网络"
   ]
  },
  {
   "cell_type": "code",
   "execution_count": null,
   "id": "87b46031",
   "metadata": {},
   "outputs": [],
   "source": []
  },
  {
   "cell_type": "markdown",
   "id": "ca9b0b64",
   "metadata": {},
   "source": [
    "### 分类原图标签"
   ]
  },
  {
   "cell_type": "code",
   "execution_count": 63,
   "id": "0dd25533",
   "metadata": {},
   "outputs": [],
   "source": [
    "test_input_dir = \"./result/output10_clean/*/\"\n",
    "test_images,test_paths = readImgAPath(test_input_dir,100)\n",
    "test_labels = [item.split(os.path.sep)[-2] for item in test_paths]\n",
    "test_Imgname = [item.split(os.path.sep)[-1] for item in test_paths]"
   ]
  },
  {
   "cell_type": "code",
   "execution_count": 65,
   "id": "a2f337ec",
   "metadata": {},
   "outputs": [],
   "source": [
    "origin_input_dir = \"./result/all_rotate_result_big/\"\n",
    "origin_images,origin_paths = readImgAPath(origin_input_dir,100,1)\n",
    "# origin_labels = [item.split(os.path.sep)[-2] for item in origin_paths]\n",
    "origin_Imgname = [item.split(os.path.sep)[-1] for item in origin_paths]"
   ]
  },
  {
   "cell_type": "code",
   "execution_count": 68,
   "id": "0035b62a",
   "metadata": {},
   "outputs": [],
   "source": [
    "for i in range(len(origin_images)):\n",
    "    img = origin_images[i]\n",
    "    imgName = origin_Imgname[i]\n",
    "    Lindex = test_Imgname.index(imgName)\n",
    "    imgLabel = test_labels[Lindex]\n",
    "#     print(imgLabel)\n",
    "    #保存至文件夹\n",
    "    Ldir = \"./result/origin_result/\"+imgLabel\n",
    "    isExists=os.path.exists(Ldir)\n",
    "    if not isExists:\n",
    "        os.makedirs(Ldir)\n",
    "    cv.imwrite(Ldir+\"/\"+str(imgName)+\".png\",img)"
   ]
  },
  {
   "cell_type": "code",
   "execution_count": null,
   "id": "9433b36f",
   "metadata": {},
   "outputs": [],
   "source": []
  }
 ],
 "metadata": {
  "kernelspec": {
   "display_name": "Python 3",
   "language": "python",
   "name": "python3"
  },
  "language_info": {
   "codemirror_mode": {
    "name": "ipython",
    "version": 3
   },
   "file_extension": ".py",
   "mimetype": "text/x-python",
   "name": "python",
   "nbconvert_exporter": "python",
   "pygments_lexer": "ipython3",
   "version": "3.7.0"
  }
 },
 "nbformat": 4,
 "nbformat_minor": 5
}
